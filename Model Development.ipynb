{
 "cells": [
  {
   "cell_type": "code",
   "execution_count": 149,
   "metadata": {},
   "outputs": [],
   "source": [
    "import numpy as np\n",
    "import pandas as pd\n",
    "from sklearn.preprocessing import LabelEncoder\n",
    "from sklearn.model_selection import train_test_split\n",
    "from lightgbm import LGBMClassifier\n",
    "from sklearn.metrics import log_loss\n",
    "from xgboost import XGBClassifier\n",
    "from sklearn.metrics import accuracy_score,roc_auc_score\n",
    "from collections import defaultdict"
   ]
  },
  {
   "cell_type": "code",
   "execution_count": 91,
   "metadata": {},
   "outputs": [],
   "source": [
    "final_train_with_cust = pd.read_csv(\"C:/Users/kxj133/Desktop/AV2/variables/customer_demographics/final_train_cust.csv\")\n",
    "final_test_with_cust = pd.read_csv(\"C:/Users/kxj133/Desktop/AV2/variables/customer_demographics/final_test_cust.csv\")"
   ]
  },
  {
   "cell_type": "code",
   "execution_count": 92,
   "metadata": {},
   "outputs": [],
   "source": [
    "final_train_with_cust.drop(\"category_items\",axis =1,inplace =True)\n",
    "final_test_with_cust.drop(\"category_items\",axis =1, inplace = True)"
   ]
  },
  {
   "cell_type": "code",
   "execution_count": 93,
   "metadata": {},
   "outputs": [],
   "source": [
    "le = LabelEncoder()\n",
    "final_train_with_cust['campaign_type'] = le.fit_transform(final_train_with_cust['campaign_type'])\n",
    "final_train_with_cust['only_brands'] = le.fit_transform(final_train_with_cust['only_brands'])\n",
    "final_train_with_cust['adj_marital_status'] = le.fit_transform(final_train_with_cust['adj_marital_status'])\n",
    "\n",
    "final_test_with_cust['campaign_type'] = le.fit_transform(final_test_with_cust['campaign_type'])\n",
    "final_test_with_cust['only_brands'] = le.fit_transform(final_test_with_cust['only_brands'])\n",
    "final_test_with_cust['adj_marital_status'] = le.fit_transform(final_test_with_cust['adj_marital_status'])"
   ]
  },
  {
   "cell_type": "code",
   "execution_count": 94,
   "metadata": {},
   "outputs": [],
   "source": [
    "age_range_map = {'18-25' : 1,'26-35' : 2,'36-45' : 3,'46-55' : 4, '56-70' : 5,'70+' : 6}\n",
    "family_size_map = {'1':1,'2':2,'3':3,'4':4,'5+':5}\n",
    "final_train_with_cust['age_range'] = final_train_with_cust['age_range'].map(age_range_map)\n",
    "final_train_with_cust['family_size'] = final_train_with_cust['family_size'].map(family_size_map)\n",
    "\n",
    "final_test_with_cust['age_range'] = final_test_with_cust['age_range'].map(age_range_map)\n",
    "final_test_with_cust['family_size'] = final_test_with_cust['family_size'].map(family_size_map)"
   ]
  },
  {
   "cell_type": "code",
   "execution_count": 95,
   "metadata": {},
   "outputs": [],
   "source": [
    "final_train_with_cust = final_train_with_cust.reset_index()"
   ]
  },
  {
   "cell_type": "code",
   "execution_count": 96,
   "metadata": {},
   "outputs": [],
   "source": [
    "final_train_with_cust_id = final_train_with_cust['id'].reset_index()"
   ]
  },
  {
   "cell_type": "code",
   "execution_count": 97,
   "metadata": {},
   "outputs": [],
   "source": [
    "final_train_with_cust.drop(['id','index'],axis =1,inplace =True)"
   ]
  },
  {
   "cell_type": "code",
   "execution_count": 153,
   "metadata": {
    "collapsed": true
   },
   "outputs": [
    {
     "name": "stdout",
     "output_type": "stream",
     "text": [
      "campaign_type\n",
      "['campaign_type']\n",
      "Index(['campaign_type'], dtype='object')\n",
      "total_purchase_price\n",
      "['campaign_type', 'total_purchase_price']\n",
      "Index(['campaign_type', 'total_purchase_price'], dtype='object')\n",
      "max_sell_price_item_x\n",
      "['campaign_type', 'max_sell_price_item_x']\n",
      "Index(['campaign_type', 'max_sell_price_item_x'], dtype='object')\n",
      "max_sell_price_x\n",
      "['campaign_type', 'max_sell_price_x']\n",
      "Index(['campaign_type', 'max_sell_price_x'], dtype='object')\n",
      "len_item_list\n",
      "['campaign_type', 'len_item_list']\n",
      "Index(['campaign_type', 'len_item_list'], dtype='object')\n",
      "max_actual_price\n",
      "['campaign_type', 'max_actual_price']\n",
      "Index(['campaign_type', 'max_actual_price'], dtype='object')\n",
      "max_sell_price_item_y\n",
      "['campaign_type', 'max_sell_price_item_y']\n",
      "Index(['campaign_type', 'max_sell_price_item_y'], dtype='object')\n",
      "max_sell_price_y\n",
      "['campaign_type', 'max_sell_price_y']\n",
      "Index(['campaign_type', 'max_sell_price_y'], dtype='object')\n",
      "max_diff_actual_sell_price\n",
      "['campaign_type', 'max_diff_actual_sell_price']\n",
      "Index(['campaign_type', 'max_diff_actual_sell_price'], dtype='object')\n",
      "min_ratio_actual_selling_price\n",
      "['campaign_type', 'min_ratio_actual_selling_price']\n",
      "Index(['campaign_type', 'min_ratio_actual_selling_price'], dtype='object')\n",
      "diff_max_actual_max_sell_price\n",
      "['campaign_type', 'diff_max_actual_max_sell_price']\n",
      "Index(['campaign_type', 'diff_max_actual_max_sell_price'], dtype='object')\n",
      "ratio_max_actual_max_sell_price\n",
      "['campaign_type', 'ratio_max_actual_max_sell_price']\n",
      "Index(['campaign_type', 'ratio_max_actual_max_sell_price'], dtype='object')\n"
     ]
    },
    {
     "ename": "KeyboardInterrupt",
     "evalue": "",
     "output_type": "error",
     "traceback": [
      "\u001b[1;31m---------------------------------------------------------------------------\u001b[0m",
      "\u001b[1;31mKeyboardInterrupt\u001b[0m                         Traceback (most recent call last)",
      "\u001b[1;32m<ipython-input-153-60f7c34f1723>\u001b[0m in \u001b[0;36m<module>\u001b[1;34m\u001b[0m\n\u001b[0;32m     21\u001b[0m                      \u001b[0mcolsample_bytree\u001b[0m\u001b[1;33m=\u001b[0m\u001b[1;36m0.3\u001b[0m\u001b[1;33m,\u001b[0m\u001b[1;33m\u001b[0m\u001b[1;33m\u001b[0m\u001b[0m\n\u001b[0;32m     22\u001b[0m                      min_child_samples=10)\n\u001b[1;32m---> 23\u001b[1;33m     \u001b[0mlgb\u001b[0m\u001b[1;33m.\u001b[0m\u001b[0mfit\u001b[0m\u001b[1;33m(\u001b[0m\u001b[0mtrain_x\u001b[0m\u001b[1;33m,\u001b[0m \u001b[0mtrain_y\u001b[0m\u001b[1;33m)\u001b[0m\u001b[1;33m\u001b[0m\u001b[1;33m\u001b[0m\u001b[0m\n\u001b[0m\u001b[0;32m     24\u001b[0m     \u001b[0mpredict\u001b[0m \u001b[1;33m=\u001b[0m \u001b[0mlgb\u001b[0m\u001b[1;33m.\u001b[0m\u001b[0mpredict\u001b[0m\u001b[1;33m(\u001b[0m\u001b[0mtest_x\u001b[0m\u001b[1;33m)\u001b[0m\u001b[1;33m\u001b[0m\u001b[1;33m\u001b[0m\u001b[0m\n\u001b[0;32m     25\u001b[0m     \u001b[0mscore\u001b[0m \u001b[1;33m=\u001b[0m \u001b[0mroc_auc_score\u001b[0m\u001b[1;33m(\u001b[0m\u001b[0mtest_y\u001b[0m\u001b[1;33m,\u001b[0m\u001b[0mpredict\u001b[0m\u001b[1;33m)\u001b[0m\u001b[1;33m\u001b[0m\u001b[1;33m\u001b[0m\u001b[0m\n",
      "\u001b[1;32mC:\\ProgramData\\Anaconda3\\lib\\site-packages\\xgboost\\sklearn.py\u001b[0m in \u001b[0;36mfit\u001b[1;34m(self, X, y, sample_weight, eval_set, eval_metric, early_stopping_rounds, verbose, xgb_model, sample_weight_eval_set, callbacks)\u001b[0m\n\u001b[0;32m    730\u001b[0m                               \u001b[0mevals_result\u001b[0m\u001b[1;33m=\u001b[0m\u001b[0mevals_result\u001b[0m\u001b[1;33m,\u001b[0m \u001b[0mobj\u001b[0m\u001b[1;33m=\u001b[0m\u001b[0mobj\u001b[0m\u001b[1;33m,\u001b[0m \u001b[0mfeval\u001b[0m\u001b[1;33m=\u001b[0m\u001b[0mfeval\u001b[0m\u001b[1;33m,\u001b[0m\u001b[1;33m\u001b[0m\u001b[1;33m\u001b[0m\u001b[0m\n\u001b[0;32m    731\u001b[0m                               \u001b[0mverbose_eval\u001b[0m\u001b[1;33m=\u001b[0m\u001b[0mverbose\u001b[0m\u001b[1;33m,\u001b[0m \u001b[0mxgb_model\u001b[0m\u001b[1;33m=\u001b[0m\u001b[0mxgb_model\u001b[0m\u001b[1;33m,\u001b[0m\u001b[1;33m\u001b[0m\u001b[1;33m\u001b[0m\u001b[0m\n\u001b[1;32m--> 732\u001b[1;33m                               callbacks=callbacks)\n\u001b[0m\u001b[0;32m    733\u001b[0m \u001b[1;33m\u001b[0m\u001b[0m\n\u001b[0;32m    734\u001b[0m         \u001b[0mself\u001b[0m\u001b[1;33m.\u001b[0m\u001b[0mobjective\u001b[0m \u001b[1;33m=\u001b[0m \u001b[0mxgb_options\u001b[0m\u001b[1;33m[\u001b[0m\u001b[1;34m\"objective\"\u001b[0m\u001b[1;33m]\u001b[0m\u001b[1;33m\u001b[0m\u001b[1;33m\u001b[0m\u001b[0m\n",
      "\u001b[1;32mC:\\ProgramData\\Anaconda3\\lib\\site-packages\\xgboost\\training.py\u001b[0m in \u001b[0;36mtrain\u001b[1;34m(params, dtrain, num_boost_round, evals, obj, feval, maximize, early_stopping_rounds, evals_result, verbose_eval, xgb_model, callbacks, learning_rates)\u001b[0m\n\u001b[0;32m    214\u001b[0m                            \u001b[0mevals\u001b[0m\u001b[1;33m=\u001b[0m\u001b[0mevals\u001b[0m\u001b[1;33m,\u001b[0m\u001b[1;33m\u001b[0m\u001b[1;33m\u001b[0m\u001b[0m\n\u001b[0;32m    215\u001b[0m                            \u001b[0mobj\u001b[0m\u001b[1;33m=\u001b[0m\u001b[0mobj\u001b[0m\u001b[1;33m,\u001b[0m \u001b[0mfeval\u001b[0m\u001b[1;33m=\u001b[0m\u001b[0mfeval\u001b[0m\u001b[1;33m,\u001b[0m\u001b[1;33m\u001b[0m\u001b[1;33m\u001b[0m\u001b[0m\n\u001b[1;32m--> 216\u001b[1;33m                            xgb_model=xgb_model, callbacks=callbacks)\n\u001b[0m\u001b[0;32m    217\u001b[0m \u001b[1;33m\u001b[0m\u001b[0m\n\u001b[0;32m    218\u001b[0m \u001b[1;33m\u001b[0m\u001b[0m\n",
      "\u001b[1;32mC:\\ProgramData\\Anaconda3\\lib\\site-packages\\xgboost\\training.py\u001b[0m in \u001b[0;36m_train_internal\u001b[1;34m(params, dtrain, num_boost_round, evals, obj, feval, xgb_model, callbacks)\u001b[0m\n\u001b[0;32m     72\u001b[0m         \u001b[1;31m# Skip the first update if it is a recovery step.\u001b[0m\u001b[1;33m\u001b[0m\u001b[1;33m\u001b[0m\u001b[1;33m\u001b[0m\u001b[0m\n\u001b[0;32m     73\u001b[0m         \u001b[1;32mif\u001b[0m \u001b[0mversion\u001b[0m \u001b[1;33m%\u001b[0m \u001b[1;36m2\u001b[0m \u001b[1;33m==\u001b[0m \u001b[1;36m0\u001b[0m\u001b[1;33m:\u001b[0m\u001b[1;33m\u001b[0m\u001b[1;33m\u001b[0m\u001b[0m\n\u001b[1;32m---> 74\u001b[1;33m             \u001b[0mbst\u001b[0m\u001b[1;33m.\u001b[0m\u001b[0mupdate\u001b[0m\u001b[1;33m(\u001b[0m\u001b[0mdtrain\u001b[0m\u001b[1;33m,\u001b[0m \u001b[0mi\u001b[0m\u001b[1;33m,\u001b[0m \u001b[0mobj\u001b[0m\u001b[1;33m)\u001b[0m\u001b[1;33m\u001b[0m\u001b[1;33m\u001b[0m\u001b[0m\n\u001b[0m\u001b[0;32m     75\u001b[0m             \u001b[0mbst\u001b[0m\u001b[1;33m.\u001b[0m\u001b[0msave_rabit_checkpoint\u001b[0m\u001b[1;33m(\u001b[0m\u001b[1;33m)\u001b[0m\u001b[1;33m\u001b[0m\u001b[1;33m\u001b[0m\u001b[0m\n\u001b[0;32m     76\u001b[0m             \u001b[0mversion\u001b[0m \u001b[1;33m+=\u001b[0m \u001b[1;36m1\u001b[0m\u001b[1;33m\u001b[0m\u001b[1;33m\u001b[0m\u001b[0m\n",
      "\u001b[1;32mC:\\ProgramData\\Anaconda3\\lib\\site-packages\\xgboost\\core.py\u001b[0m in \u001b[0;36mupdate\u001b[1;34m(self, dtrain, iteration, fobj)\u001b[0m\n\u001b[0;32m   1107\u001b[0m         \u001b[1;32mif\u001b[0m \u001b[0mfobj\u001b[0m \u001b[1;32mis\u001b[0m \u001b[1;32mNone\u001b[0m\u001b[1;33m:\u001b[0m\u001b[1;33m\u001b[0m\u001b[1;33m\u001b[0m\u001b[0m\n\u001b[0;32m   1108\u001b[0m             _check_call(_LIB.XGBoosterUpdateOneIter(self.handle, ctypes.c_int(iteration),\n\u001b[1;32m-> 1109\u001b[1;33m                                                     dtrain.handle))\n\u001b[0m\u001b[0;32m   1110\u001b[0m         \u001b[1;32melse\u001b[0m\u001b[1;33m:\u001b[0m\u001b[1;33m\u001b[0m\u001b[1;33m\u001b[0m\u001b[0m\n\u001b[0;32m   1111\u001b[0m             \u001b[0mpred\u001b[0m \u001b[1;33m=\u001b[0m \u001b[0mself\u001b[0m\u001b[1;33m.\u001b[0m\u001b[0mpredict\u001b[0m\u001b[1;33m(\u001b[0m\u001b[0mdtrain\u001b[0m\u001b[1;33m)\u001b[0m\u001b[1;33m\u001b[0m\u001b[1;33m\u001b[0m\u001b[0m\n",
      "\u001b[1;31mKeyboardInterrupt\u001b[0m: "
     ]
    }
   ],
   "source": [
    "X = final_train_with_cust.drop('redemption_status',axis =1)\n",
    "Y = final_train_with_cust['redemption_status']\n",
    "columns = X.columns.tolist()\n",
    "columns_scores = defaultdict(list)\n",
    "score = 0\n",
    "new_var_list = []\n",
    "for col in columns:\n",
    "    print(col)\n",
    "    previous_score = score\n",
    "    new_var_list.append(col)\n",
    "    print(new_var_list)\n",
    "    x = X[new_var_list]\n",
    "    print(x.columns)\n",
    "    train_x,test_x,train_y,test_y = train_test_split(x,Y,random_state = 1000,test_size = 0.30)\n",
    "    lgb = XGBClassifier(nthread=8,\n",
    "                     n_estimators=500,\n",
    "                     num_leaves=45,\n",
    "                     learning_rate=0.03,\n",
    "                     subsample=1.0,\n",
    "                     subsample_freq=1,\n",
    "                     colsample_bytree=0.3,\n",
    "                     min_child_samples=10)\n",
    "    lgb.fit(train_x, train_y)\n",
    "    predict = lgb.predict(test_x)\n",
    "    score = roc_auc_score(test_y,predict)\n",
    "    columns_scores['variables'].append(new_var_list)\n",
    "    columns_scores['scores'].append(score)\n",
    "    if score == previous_score : \n",
    "        new_var_list.remove(col)\n",
    "    else:\n",
    "        pass"
   ]
  },
  {
   "cell_type": "code",
   "execution_count": 155,
   "metadata": {},
   "outputs": [
    {
     "data": {
      "text/plain": [
       "41"
      ]
     },
     "execution_count": 155,
     "metadata": {},
     "output_type": "execute_result"
    }
   ],
   "source": [
    "X.shape[1]"
   ]
  },
  {
   "cell_type": "code",
   "execution_count": 150,
   "metadata": {},
   "outputs": [],
   "source": [
    "x = X[['max_sell_price_y']]\n",
    "train_x,test_x,train_y,test_y = train_test_split(x,Y,random_state = 1000,test_size = 0.30)\n",
    "lgb = LGBMClassifier(nthread=8,\n",
    "                     n_estimators=500,\n",
    "                     num_leaves=45,\n",
    "                     learning_rate=0.03,\n",
    "                     subsample=1.0,\n",
    "                     subsample_freq=1,\n",
    "                     colsample_bytree=0.3,\n",
    "                     min_child_samples=10)\n",
    "    \n",
    "lgb.fit(train_x, train_y)\n",
    "predict = lgb.predict(test_x)\n",
    "score = roc_auc_score(test_y,predict)"
   ]
  },
  {
   "cell_type": "code",
   "execution_count": 130,
   "metadata": {},
   "outputs": [],
   "source": []
  },
  {
   "cell_type": "code",
   "execution_count": 152,
   "metadata": {
    "scrolled": true
   },
   "outputs": [
    {
     "data": {
      "text/plain": [
       "0.5"
      ]
     },
     "execution_count": 152,
     "metadata": {},
     "output_type": "execute_result"
    }
   ],
   "source": [
    "score"
   ]
  }
 ],
 "metadata": {
  "kernelspec": {
   "display_name": "Python 3",
   "language": "python",
   "name": "python3"
  },
  "language_info": {
   "codemirror_mode": {
    "name": "ipython",
    "version": 3
   },
   "file_extension": ".py",
   "mimetype": "text/x-python",
   "name": "python",
   "nbconvert_exporter": "python",
   "pygments_lexer": "ipython3",
   "version": "3.7.3"
  }
 },
 "nbformat": 4,
 "nbformat_minor": 2
}
