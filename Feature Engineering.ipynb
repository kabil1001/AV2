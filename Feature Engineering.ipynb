{
 "cells": [
  {
   "cell_type": "code",
   "execution_count": 2,
   "metadata": {},
   "outputs": [],
   "source": [
    "import pandas as pd\n",
    "import numpy as np"
   ]
  },
  {
   "cell_type": "code",
   "execution_count": 3,
   "metadata": {},
   "outputs": [],
   "source": [
    "train_x = pd.read_csv(\"C:/Users/kxj133/Desktop/AV2/train.csv\")\n",
    "test = pd.read_csv(\"C:/Users/kxj133/Desktop/AV2/test.csv\")\n",
    "\n",
    "train_x['train'] = \"Yes\"\n",
    "test['train'] = \"No\"\n",
    "test['redemption_status'] = np.nan\n",
    "\n",
    "train = pd.concat([train_x,test],axis =0,sort = False)"
   ]
  },
  {
   "cell_type": "code",
   "execution_count": 470,
   "metadata": {},
   "outputs": [],
   "source": [
    "campaign_data = pd.read_csv(\"C:/Users/kxj133/Desktop/AV2/campaign_data.csv\")\n",
    "coupon_item_mapping = pd.read_csv(\"C:/Users/kxj133/Desktop/AV2/coupon_item_mapping.csv\")\n",
    "customer_demographics = pd.read_csv(\"C:/Users/kxj133/Desktop/AV2/customer_demographics.csv\")\n",
    "customer_transaction_data = pd.read_csv(\"C:/Users/kxj133/Desktop/AV2/customer_transaction_data.csv\")\n",
    "item_data =  pd.read_csv(\"C:/Users/kxj133/Desktop/AV2/item_data.csv\")"
   ]
  },
  {
   "cell_type": "code",
   "execution_count": null,
   "metadata": {},
   "outputs": [],
   "source": [
    "customer_demographics['']"
   ]
  },
  {
   "cell_type": "code",
   "execution_count": 55,
   "metadata": {
    "collapsed": true
   },
   "outputs": [
    {
     "data": {
      "text/plain": [
       "(92663, 2)"
      ]
     },
     "execution_count": 55,
     "metadata": {},
     "output_type": "execute_result"
    }
   ],
   "source": [
    "coupon_item_mapping.shape"
   ]
  },
  {
   "cell_type": "code",
   "execution_count": 46,
   "metadata": {
    "collapsed": true
   },
   "outputs": [
    {
     "data": {
      "text/html": [
       "<div>\n",
       "<style scoped>\n",
       "    .dataframe tbody tr th:only-of-type {\n",
       "        vertical-align: middle;\n",
       "    }\n",
       "\n",
       "    .dataframe tbody tr th {\n",
       "        vertical-align: top;\n",
       "    }\n",
       "\n",
       "    .dataframe thead th {\n",
       "        text-align: right;\n",
       "    }\n",
       "</style>\n",
       "<table border=\"1\" class=\"dataframe\">\n",
       "  <thead>\n",
       "    <tr style=\"text-align: right;\">\n",
       "      <th></th>\n",
       "      <th>id</th>\n",
       "      <th>campaign_id</th>\n",
       "      <th>coupon_id</th>\n",
       "      <th>customer_id</th>\n",
       "      <th>redemption_status</th>\n",
       "      <th>train</th>\n",
       "    </tr>\n",
       "  </thead>\n",
       "  <tbody>\n",
       "    <tr>\n",
       "      <th>3062</th>\n",
       "      <td>5085</td>\n",
       "      <td>8</td>\n",
       "      <td>424</td>\n",
       "      <td>1</td>\n",
       "      <td>0.0</td>\n",
       "      <td>Yes</td>\n",
       "    </tr>\n",
       "  </tbody>\n",
       "</table>\n",
       "</div>"
      ],
      "text/plain": [
       "        id  campaign_id  coupon_id  customer_id  redemption_status train\n",
       "3062  5085            8        424            1                0.0   Yes"
      ]
     },
     "execution_count": 46,
     "metadata": {},
     "output_type": "execute_result"
    }
   ],
   "source": [
    "train[(train['customer_id']==1) & (train['campaign_id'] == 8)].head(1)"
   ]
  },
  {
   "cell_type": "code",
   "execution_count": 215,
   "metadata": {},
   "outputs": [
    {
     "data": {
      "text/plain": [
       "(760, 7)"
      ]
     },
     "execution_count": 215,
     "metadata": {},
     "output_type": "execute_result"
    }
   ],
   "source": [
    "customer_demographics.shape"
   ]
  },
  {
   "cell_type": "code",
   "execution_count": 471,
   "metadata": {
    "collapsed": true
   },
   "outputs": [
    {
     "data": {
      "text/plain": [
       "2     303\n",
       "1     248\n",
       "3     104\n",
       "5+     57\n",
       "4      48\n",
       "Name: family_size, dtype: int64"
      ]
     },
     "execution_count": 471,
     "metadata": {},
     "output_type": "execute_result"
    }
   ],
   "source": [
    "customer_demographics['family_size'].value_counts()"
   ]
  },
  {
   "cell_type": "code",
   "execution_count": 316,
   "metadata": {
    "collapsed": true
   },
   "outputs": [
    {
     "data": {
      "text/plain": [
       "Index(['customer_id', 'age_range', 'marital_status', 'rented', 'family_size',\n",
       "       'no_of_children', 'income_bracket', 'marital_status '],\n",
       "      dtype='object')"
      ]
     },
     "execution_count": 316,
     "metadata": {},
     "output_type": "execute_result"
    }
   ],
   "source": [
    "customer_demographics.columns"
   ]
  },
  {
   "cell_type": "code",
   "execution_count": null,
   "metadata": {},
   "outputs": [],
   "source": [
    "customer_demographics.apply(lambda x : if x['marital_status'])"
   ]
  },
  {
   "cell_type": "code",
   "execution_count": 450,
   "metadata": {
    "scrolled": true
   },
   "outputs": [
    {
     "data": {
      "text/html": [
       "<div>\n",
       "<style scoped>\n",
       "    .dataframe tbody tr th:only-of-type {\n",
       "        vertical-align: middle;\n",
       "    }\n",
       "\n",
       "    .dataframe tbody tr th {\n",
       "        vertical-align: top;\n",
       "    }\n",
       "\n",
       "    .dataframe thead th {\n",
       "        text-align: right;\n",
       "    }\n",
       "</style>\n",
       "<table border=\"1\" class=\"dataframe\">\n",
       "  <thead>\n",
       "    <tr style=\"text-align: right;\">\n",
       "      <th></th>\n",
       "      <th>customer_id</th>\n",
       "      <th>age_range</th>\n",
       "      <th>marital_status</th>\n",
       "      <th>rented</th>\n",
       "      <th>family_size</th>\n",
       "      <th>no_of_children</th>\n",
       "      <th>income_bracket</th>\n",
       "      <th>adj_marital_status</th>\n",
       "    </tr>\n",
       "  </thead>\n",
       "  <tbody>\n",
       "    <tr>\n",
       "      <th>755</th>\n",
       "      <td>1577</td>\n",
       "      <td>36-45</td>\n",
       "      <td>NaN</td>\n",
       "      <td>0</td>\n",
       "      <td>2</td>\n",
       "      <td>NaN</td>\n",
       "      <td>5</td>\n",
       "      <td>Married</td>\n",
       "    </tr>\n",
       "    <tr>\n",
       "      <th>756</th>\n",
       "      <td>1578</td>\n",
       "      <td>46-55</td>\n",
       "      <td>Married</td>\n",
       "      <td>0</td>\n",
       "      <td>3</td>\n",
       "      <td>1</td>\n",
       "      <td>6</td>\n",
       "      <td>Married</td>\n",
       "    </tr>\n",
       "    <tr>\n",
       "      <th>757</th>\n",
       "      <td>1579</td>\n",
       "      <td>46-55</td>\n",
       "      <td>NaN</td>\n",
       "      <td>0</td>\n",
       "      <td>1</td>\n",
       "      <td>NaN</td>\n",
       "      <td>4</td>\n",
       "      <td>Single</td>\n",
       "    </tr>\n",
       "    <tr>\n",
       "      <th>758</th>\n",
       "      <td>1580</td>\n",
       "      <td>26-35</td>\n",
       "      <td>NaN</td>\n",
       "      <td>0</td>\n",
       "      <td>2</td>\n",
       "      <td>NaN</td>\n",
       "      <td>5</td>\n",
       "      <td>Married</td>\n",
       "    </tr>\n",
       "    <tr>\n",
       "      <th>759</th>\n",
       "      <td>1581</td>\n",
       "      <td>26-35</td>\n",
       "      <td>NaN</td>\n",
       "      <td>0</td>\n",
       "      <td>3</td>\n",
       "      <td>1</td>\n",
       "      <td>1</td>\n",
       "      <td>Married</td>\n",
       "    </tr>\n",
       "  </tbody>\n",
       "</table>\n",
       "</div>"
      ],
      "text/plain": [
       "     customer_id age_range marital_status  rented family_size no_of_children  \\\n",
       "755         1577     36-45            NaN       0           2            NaN   \n",
       "756         1578     46-55        Married       0           3              1   \n",
       "757         1579     46-55            NaN       0           1            NaN   \n",
       "758         1580     26-35            NaN       0           2            NaN   \n",
       "759         1581     26-35            NaN       0           3              1   \n",
       "\n",
       "     income_bracket adj_marital_status  \n",
       "755               5            Married  \n",
       "756               6            Married  \n",
       "757               4             Single  \n",
       "758               5            Married  \n",
       "759               1            Married  "
      ]
     },
     "execution_count": 450,
     "metadata": {},
     "output_type": "execute_result"
    }
   ],
   "source": [
    "customer_demographics.tail()"
   ]
  },
  {
   "cell_type": "code",
   "execution_count": 478,
   "metadata": {
    "collapsed": true
   },
   "outputs": [
    {
     "ename": "KeyError",
     "evalue": "'adj_marital_status'",
     "output_type": "error",
     "traceback": [
      "\u001b[1;31m---------------------------------------------------------------------------\u001b[0m",
      "\u001b[1;31mKeyError\u001b[0m                                  Traceback (most recent call last)",
      "\u001b[1;32mC:\\ProgramData\\Anaconda3\\lib\\site-packages\\pandas\\core\\indexes\\base.py\u001b[0m in \u001b[0;36mget_loc\u001b[1;34m(self, key, method, tolerance)\u001b[0m\n\u001b[0;32m   2656\u001b[0m             \u001b[1;32mtry\u001b[0m\u001b[1;33m:\u001b[0m\u001b[1;33m\u001b[0m\u001b[1;33m\u001b[0m\u001b[0m\n\u001b[1;32m-> 2657\u001b[1;33m                 \u001b[1;32mreturn\u001b[0m \u001b[0mself\u001b[0m\u001b[1;33m.\u001b[0m\u001b[0m_engine\u001b[0m\u001b[1;33m.\u001b[0m\u001b[0mget_loc\u001b[0m\u001b[1;33m(\u001b[0m\u001b[0mkey\u001b[0m\u001b[1;33m)\u001b[0m\u001b[1;33m\u001b[0m\u001b[1;33m\u001b[0m\u001b[0m\n\u001b[0m\u001b[0;32m   2658\u001b[0m             \u001b[1;32mexcept\u001b[0m \u001b[0mKeyError\u001b[0m\u001b[1;33m:\u001b[0m\u001b[1;33m\u001b[0m\u001b[1;33m\u001b[0m\u001b[0m\n",
      "\u001b[1;32mpandas/_libs/index.pyx\u001b[0m in \u001b[0;36mpandas._libs.index.IndexEngine.get_loc\u001b[1;34m()\u001b[0m\n",
      "\u001b[1;32mpandas/_libs/index.pyx\u001b[0m in \u001b[0;36mpandas._libs.index.IndexEngine.get_loc\u001b[1;34m()\u001b[0m\n",
      "\u001b[1;32mpandas/_libs/hashtable_class_helper.pxi\u001b[0m in \u001b[0;36mpandas._libs.hashtable.PyObjectHashTable.get_item\u001b[1;34m()\u001b[0m\n",
      "\u001b[1;32mpandas/_libs/hashtable_class_helper.pxi\u001b[0m in \u001b[0;36mpandas._libs.hashtable.PyObjectHashTable.get_item\u001b[1;34m()\u001b[0m\n",
      "\u001b[1;31mKeyError\u001b[0m: 'adj_marital_status'",
      "\nDuring handling of the above exception, another exception occurred:\n",
      "\u001b[1;31mKeyError\u001b[0m                                  Traceback (most recent call last)",
      "\u001b[1;32m<ipython-input-478-35c99b2809c0>\u001b[0m in \u001b[0;36m<module>\u001b[1;34m\u001b[0m\n\u001b[1;32m----> 1\u001b[1;33m \u001b[0mcustomer_demographics\u001b[0m\u001b[1;33m[\u001b[0m\u001b[1;34m'adj_marital_status'\u001b[0m\u001b[1;33m]\u001b[0m\u001b[1;33m.\u001b[0m\u001b[0misnull\u001b[0m\u001b[1;33m(\u001b[0m\u001b[1;33m)\u001b[0m\u001b[1;33m.\u001b[0m\u001b[0msum\u001b[0m\u001b[1;33m(\u001b[0m\u001b[1;33m)\u001b[0m\u001b[1;33m\u001b[0m\u001b[1;33m\u001b[0m\u001b[0m\n\u001b[0m",
      "\u001b[1;32mC:\\ProgramData\\Anaconda3\\lib\\site-packages\\pandas\\core\\frame.py\u001b[0m in \u001b[0;36m__getitem__\u001b[1;34m(self, key)\u001b[0m\n\u001b[0;32m   2925\u001b[0m             \u001b[1;32mif\u001b[0m \u001b[0mself\u001b[0m\u001b[1;33m.\u001b[0m\u001b[0mcolumns\u001b[0m\u001b[1;33m.\u001b[0m\u001b[0mnlevels\u001b[0m \u001b[1;33m>\u001b[0m \u001b[1;36m1\u001b[0m\u001b[1;33m:\u001b[0m\u001b[1;33m\u001b[0m\u001b[1;33m\u001b[0m\u001b[0m\n\u001b[0;32m   2926\u001b[0m                 \u001b[1;32mreturn\u001b[0m \u001b[0mself\u001b[0m\u001b[1;33m.\u001b[0m\u001b[0m_getitem_multilevel\u001b[0m\u001b[1;33m(\u001b[0m\u001b[0mkey\u001b[0m\u001b[1;33m)\u001b[0m\u001b[1;33m\u001b[0m\u001b[1;33m\u001b[0m\u001b[0m\n\u001b[1;32m-> 2927\u001b[1;33m             \u001b[0mindexer\u001b[0m \u001b[1;33m=\u001b[0m \u001b[0mself\u001b[0m\u001b[1;33m.\u001b[0m\u001b[0mcolumns\u001b[0m\u001b[1;33m.\u001b[0m\u001b[0mget_loc\u001b[0m\u001b[1;33m(\u001b[0m\u001b[0mkey\u001b[0m\u001b[1;33m)\u001b[0m\u001b[1;33m\u001b[0m\u001b[1;33m\u001b[0m\u001b[0m\n\u001b[0m\u001b[0;32m   2928\u001b[0m             \u001b[1;32mif\u001b[0m \u001b[0mis_integer\u001b[0m\u001b[1;33m(\u001b[0m\u001b[0mindexer\u001b[0m\u001b[1;33m)\u001b[0m\u001b[1;33m:\u001b[0m\u001b[1;33m\u001b[0m\u001b[1;33m\u001b[0m\u001b[0m\n\u001b[0;32m   2929\u001b[0m                 \u001b[0mindexer\u001b[0m \u001b[1;33m=\u001b[0m \u001b[1;33m[\u001b[0m\u001b[0mindexer\u001b[0m\u001b[1;33m]\u001b[0m\u001b[1;33m\u001b[0m\u001b[1;33m\u001b[0m\u001b[0m\n",
      "\u001b[1;32mC:\\ProgramData\\Anaconda3\\lib\\site-packages\\pandas\\core\\indexes\\base.py\u001b[0m in \u001b[0;36mget_loc\u001b[1;34m(self, key, method, tolerance)\u001b[0m\n\u001b[0;32m   2657\u001b[0m                 \u001b[1;32mreturn\u001b[0m \u001b[0mself\u001b[0m\u001b[1;33m.\u001b[0m\u001b[0m_engine\u001b[0m\u001b[1;33m.\u001b[0m\u001b[0mget_loc\u001b[0m\u001b[1;33m(\u001b[0m\u001b[0mkey\u001b[0m\u001b[1;33m)\u001b[0m\u001b[1;33m\u001b[0m\u001b[1;33m\u001b[0m\u001b[0m\n\u001b[0;32m   2658\u001b[0m             \u001b[1;32mexcept\u001b[0m \u001b[0mKeyError\u001b[0m\u001b[1;33m:\u001b[0m\u001b[1;33m\u001b[0m\u001b[1;33m\u001b[0m\u001b[0m\n\u001b[1;32m-> 2659\u001b[1;33m                 \u001b[1;32mreturn\u001b[0m \u001b[0mself\u001b[0m\u001b[1;33m.\u001b[0m\u001b[0m_engine\u001b[0m\u001b[1;33m.\u001b[0m\u001b[0mget_loc\u001b[0m\u001b[1;33m(\u001b[0m\u001b[0mself\u001b[0m\u001b[1;33m.\u001b[0m\u001b[0m_maybe_cast_indexer\u001b[0m\u001b[1;33m(\u001b[0m\u001b[0mkey\u001b[0m\u001b[1;33m)\u001b[0m\u001b[1;33m)\u001b[0m\u001b[1;33m\u001b[0m\u001b[1;33m\u001b[0m\u001b[0m\n\u001b[0m\u001b[0;32m   2660\u001b[0m         \u001b[0mindexer\u001b[0m \u001b[1;33m=\u001b[0m \u001b[0mself\u001b[0m\u001b[1;33m.\u001b[0m\u001b[0mget_indexer\u001b[0m\u001b[1;33m(\u001b[0m\u001b[1;33m[\u001b[0m\u001b[0mkey\u001b[0m\u001b[1;33m]\u001b[0m\u001b[1;33m,\u001b[0m \u001b[0mmethod\u001b[0m\u001b[1;33m=\u001b[0m\u001b[0mmethod\u001b[0m\u001b[1;33m,\u001b[0m \u001b[0mtolerance\u001b[0m\u001b[1;33m=\u001b[0m\u001b[0mtolerance\u001b[0m\u001b[1;33m)\u001b[0m\u001b[1;33m\u001b[0m\u001b[1;33m\u001b[0m\u001b[0m\n\u001b[0;32m   2661\u001b[0m         \u001b[1;32mif\u001b[0m \u001b[0mindexer\u001b[0m\u001b[1;33m.\u001b[0m\u001b[0mndim\u001b[0m \u001b[1;33m>\u001b[0m \u001b[1;36m1\u001b[0m \u001b[1;32mor\u001b[0m \u001b[0mindexer\u001b[0m\u001b[1;33m.\u001b[0m\u001b[0msize\u001b[0m \u001b[1;33m>\u001b[0m \u001b[1;36m1\u001b[0m\u001b[1;33m:\u001b[0m\u001b[1;33m\u001b[0m\u001b[1;33m\u001b[0m\u001b[0m\n",
      "\u001b[1;32mpandas/_libs/index.pyx\u001b[0m in \u001b[0;36mpandas._libs.index.IndexEngine.get_loc\u001b[1;34m()\u001b[0m\n",
      "\u001b[1;32mpandas/_libs/index.pyx\u001b[0m in \u001b[0;36mpandas._libs.index.IndexEngine.get_loc\u001b[1;34m()\u001b[0m\n",
      "\u001b[1;32mpandas/_libs/hashtable_class_helper.pxi\u001b[0m in \u001b[0;36mpandas._libs.hashtable.PyObjectHashTable.get_item\u001b[1;34m()\u001b[0m\n",
      "\u001b[1;32mpandas/_libs/hashtable_class_helper.pxi\u001b[0m in \u001b[0;36mpandas._libs.hashtable.PyObjectHashTable.get_item\u001b[1;34m()\u001b[0m\n",
      "\u001b[1;31mKeyError\u001b[0m: 'adj_marital_status'"
     ]
    }
   ],
   "source": [
    "customer_demographics['adj_marital_status'].isnull().sum()"
   ]
  },
  {
   "cell_type": "code",
   "execution_count": 451,
   "metadata": {},
   "outputs": [],
   "source": [
    "customer_demographics['adj_marital_status'] = customer_demographics['marital_status'].where((customer_demographics['marital_status'] != np.nan) & (customer_demographics['family_size'] != '1'),\"Single\")"
   ]
  },
  {
   "cell_type": "code",
   "execution_count": 454,
   "metadata": {},
   "outputs": [],
   "source": [
    "customer_demographics['adj_marital_status'] = customer_demographics['adj_marital_status'].where( (customer_demographics['adj_marital_status'] != np.nan) & (~(customer_demographics['family_size']).isin(['2','3','4','5+'])),\"Married\")"
   ]
  },
  {
   "cell_type": "code",
   "execution_count": 410,
   "metadata": {},
   "outputs": [
    {
     "data": {
      "text/plain": [
       "146"
      ]
     },
     "execution_count": 410,
     "metadata": {},
     "output_type": "execute_result"
    }
   ],
   "source": [
    "customer_demographics['adj_marital_status'].isnull().sum()"
   ]
  },
  {
   "cell_type": "code",
   "execution_count": 412,
   "metadata": {},
   "outputs": [
    {
     "data": {
      "text/plain": [
       "760"
      ]
     },
     "execution_count": 412,
     "metadata": {},
     "output_type": "execute_result"
    }
   ],
   "source": [
    "customer_demographics['customer_id'].nunique()"
   ]
  },
  {
   "cell_type": "code",
   "execution_count": 411,
   "metadata": {},
   "outputs": [
    {
     "data": {
      "text/plain": [
       "329"
      ]
     },
     "execution_count": 411,
     "metadata": {},
     "output_type": "execute_result"
    }
   ],
   "source": [
    "customer_demographics['marital_status'].isnull().sum()"
   ]
  },
  {
   "cell_type": "code",
   "execution_count": null,
   "metadata": {},
   "outputs": [],
   "source": [
    "customer_demographics.where()"
   ]
  },
  {
   "cell_type": "code",
   "execution_count": 358,
   "metadata": {
    "collapsed": true
   },
   "outputs": [
    {
     "data": {
      "text/plain": [
       "0      False\n",
       "1      False\n",
       "2      False\n",
       "3      False\n",
       "4      False\n",
       "5      False\n",
       "6      False\n",
       "7      False\n",
       "8      False\n",
       "9      False\n",
       "10     False\n",
       "11     False\n",
       "12     False\n",
       "13     False\n",
       "14     False\n",
       "15     False\n",
       "16     False\n",
       "17     False\n",
       "18     False\n",
       "19     False\n",
       "20     False\n",
       "21     False\n",
       "22     False\n",
       "23     False\n",
       "24     False\n",
       "25     False\n",
       "26     False\n",
       "27     False\n",
       "28     False\n",
       "29     False\n",
       "       ...  \n",
       "730    False\n",
       "731    False\n",
       "732    False\n",
       "733    False\n",
       "734    False\n",
       "735    False\n",
       "736    False\n",
       "737    False\n",
       "738    False\n",
       "739    False\n",
       "740    False\n",
       "741    False\n",
       "742    False\n",
       "743    False\n",
       "744    False\n",
       "745    False\n",
       "746    False\n",
       "747    False\n",
       "748    False\n",
       "749    False\n",
       "750    False\n",
       "751    False\n",
       "752    False\n",
       "753    False\n",
       "754    False\n",
       "755    False\n",
       "756    False\n",
       "757    False\n",
       "758    False\n",
       "759    False\n",
       "Name: marital_status, Length: 760, dtype: bool"
      ]
     },
     "execution_count": 358,
     "metadata": {},
     "output_type": "execute_result"
    }
   ],
   "source": [
    "customer_demographics['marital_status'] == np.nan"
   ]
  },
  {
   "cell_type": "code",
   "execution_count": 327,
   "metadata": {},
   "outputs": [
    {
     "data": {
      "text/plain": [
       "array([33, 51, 69, 89, 89,  1,  1])"
      ]
     },
     "execution_count": 327,
     "metadata": {},
     "output_type": "execute_result"
    }
   ],
   "source": [
    "df.groupby('node_i')['value_j'].transform('mean').fillna(1)\n",
    "np.where(df['value_j'].notnull(),df['value_j'],values).astype(int)"
   ]
  },
  {
   "cell_type": "code",
   "execution_count": null,
   "metadata": {},
   "outputs": [],
   "source": []
  },
  {
   "cell_type": "code",
   "execution_count": null,
   "metadata": {},
   "outputs": [],
   "source": []
  },
  {
   "cell_type": "code",
   "execution_count": 211,
   "metadata": {
    "collapsed": true
   },
   "outputs": [
    {
     "data": {
      "text/html": [
       "<div>\n",
       "<style scoped>\n",
       "    .dataframe tbody tr th:only-of-type {\n",
       "        vertical-align: middle;\n",
       "    }\n",
       "\n",
       "    .dataframe tbody tr th {\n",
       "        vertical-align: top;\n",
       "    }\n",
       "\n",
       "    .dataframe thead th {\n",
       "        text-align: right;\n",
       "    }\n",
       "</style>\n",
       "<table border=\"1\" class=\"dataframe\">\n",
       "  <thead>\n",
       "    <tr style=\"text-align: right;\">\n",
       "      <th></th>\n",
       "      <th>campaign_id</th>\n",
       "      <th>campaign_type</th>\n",
       "      <th>start_date</th>\n",
       "      <th>end_date</th>\n",
       "    </tr>\n",
       "  </thead>\n",
       "  <tbody>\n",
       "    <tr>\n",
       "      <th>0</th>\n",
       "      <td>24</td>\n",
       "      <td>Y</td>\n",
       "      <td>21/10/13</td>\n",
       "      <td>20/12/13</td>\n",
       "    </tr>\n",
       "    <tr>\n",
       "      <th>1</th>\n",
       "      <td>25</td>\n",
       "      <td>Y</td>\n",
       "      <td>21/10/13</td>\n",
       "      <td>22/11/13</td>\n",
       "    </tr>\n",
       "    <tr>\n",
       "      <th>2</th>\n",
       "      <td>20</td>\n",
       "      <td>Y</td>\n",
       "      <td>07/09/13</td>\n",
       "      <td>16/11/13</td>\n",
       "    </tr>\n",
       "    <tr>\n",
       "      <th>3</th>\n",
       "      <td>23</td>\n",
       "      <td>Y</td>\n",
       "      <td>08/10/13</td>\n",
       "      <td>15/11/13</td>\n",
       "    </tr>\n",
       "    <tr>\n",
       "      <th>4</th>\n",
       "      <td>21</td>\n",
       "      <td>Y</td>\n",
       "      <td>16/09/13</td>\n",
       "      <td>18/10/13</td>\n",
       "    </tr>\n",
       "  </tbody>\n",
       "</table>\n",
       "</div>"
      ],
      "text/plain": [
       "   campaign_id campaign_type start_date  end_date\n",
       "0           24             Y   21/10/13  20/12/13\n",
       "1           25             Y   21/10/13  22/11/13\n",
       "2           20             Y   07/09/13  16/11/13\n",
       "3           23             Y   08/10/13  15/11/13\n",
       "4           21             Y   16/09/13  18/10/13"
      ]
     },
     "execution_count": 211,
     "metadata": {},
     "output_type": "execute_result"
    }
   ],
   "source": [
    "campaign_data.head()"
   ]
  },
  {
   "cell_type": "code",
   "execution_count": 236,
   "metadata": {},
   "outputs": [],
   "source": [
    "#### Coupon_varaibles\n",
    "\n",
    "merged_coupon_items = pd.merge(coupon_item_mapping,item_data,how = \"left\",on = \"item_id\")\n",
    "\n",
    "#### BRAND TYPE VARIABLE\n",
    "brand_type_counts = merged_coupon_items[['coupon_id','brand_type','brand']].groupby(['coupon_id','brand_type']).count().reset_index().rename( columns = {'brand' : \"brand_type_counts\"})\n",
    "\n",
    "merged_coupon_items['brand_counts'] = merged_coupon_items['coupon_id'].map(brand_type_counts.groupby(['coupon_id'])['brand_type'].count())\n",
    "\n",
    "merged_coupon_items['only_brands'] = merged_coupon_items.apply(lambda x : 'local' if (x['brand_type'] == 'Local') and (x['brand_counts'] == 1) else(\"established\" if (x['brand_type'] == 'Established') and (x['brand_counts'] == 1) else \"both\"),axis =1)\n",
    "\n",
    "### ITEM CATEGORY\n",
    "merged_coupon_items['category'].value_counts()\n",
    "\n",
    "map_object = {'Grocery' : 'Grocery' , 'Pharmaceutical' : 'Pharmacy', 'Natural Products' : 'Natural Products','Meat' : 'Meat','Packaged Meat' : 'Meat', 'Skin & Hair Care' : 'skin care', 'Seafood' : 'seafood','Flowers & Plants' : 'Flowers&plants','Dairy, Juices & Snacks' : 'dairy&juices' }\n",
    "\n",
    "merged_coupon_items['category_items'] = merged_coupon_items['category'].map(map_object).fillna('others')\n",
    "\n",
    "category_counts = merged_coupon_items[['coupon_id','category_items','category']].groupby(['coupon_id','category_items']).count().reset_index()\n",
    "\n",
    "merged_coupon_items['category_counts'] = merged_coupon_items['coupon_id'].map(category_counts.groupby(['coupon_id'])['category'].count())\n",
    "\n",
    "\n",
    "merged_coupon_items.drop(['item_id','brand','brand_type','category'],axis = 1 , inplace = True)\n",
    "\n",
    "category_list = merged_coupon_items['category_items'].unique().tolist()\n",
    "merged_coupon_items['category_items_list'] = merged_coupon_items['coupon_id'].map(merged_coupon_items.groupby('coupon_id')['category_items'].apply(list))\n",
    "\n",
    "merged_coupon_items.drop_duplicates(subset= ['coupon_id','only_brands'],inplace = True)\n",
    "\n",
    "for  i in  category_list:\n",
    "    merged_coupon_items['order_category_' + i] = merged_coupon_items['category_items_list'].apply(lambda x : 1 if i in x else 0)\n",
    "\n",
    "merged_coupon_items[merged_coupon_items['category_counts'] == 4].head(1)\n",
    "\n",
    "merged_coupon_items.drop('category_items_list',axis = 1, inplace = True)"
   ]
  },
  {
   "cell_type": "code",
   "execution_count": 401,
   "metadata": {},
   "outputs": [],
   "source": [
    "####Customer Transaction data\n",
    "\n",
    "customer_transaction_data['actual_price'] = customer_transaction_data[\"selling_price\"] + (customer_transaction_data['other_discount'] * (-1)) + (customer_transaction_data['coupon_discount'] * (-1)) \n",
    "customer_transaction_data['diff_actual_selling_price'] = customer_transaction_data['actual_price']- customer_transaction_data['selling_price']\n",
    "customer_transaction_data['ratio_actual_selling_price'] = customer_transaction_data['selling_price']/customer_transaction_data['actual_price'] \n",
    "###customer_transaction_data aggregation\n",
    "#customer_transaction_data.groupby('customer_id')['selling_price'].sum()\n",
    "\n",
    "max_purchase = customer_transaction_data.groupby(['customer_id'],sort = True)['item_id','selling_price'].max()\n",
    "max_purchase = max_purchase.rename(columns = {'item_id' : 'max_sell_price_item',\"selling_price\" : 'max_sell_price'})\n",
    "max_actual_price_purchase = customer_transaction_data.groupby(['customer_id'],sort = True)['item_id','actual_price'].max()\n",
    "max_actual_price_purchase = max_actual_price_purchase.rename(columns = {'item_id' : 'max_actual_price_item',\"actual_price\" : 'max_actual_price'})\n",
    "\n",
    "max_actual_max_sell = pd.concat([max_actual_price_purchase,max_purchase],axis =1)\n",
    "\n",
    "max_actual_max_sell = max_actual_max_sell.reset_index()\n",
    "max_actual_max_sell.drop(['max_actual_price_item'],axis =1,inplace = True)\n",
    "\n",
    "max_actual_max_sell['max_diff_actual_sell_price'] =  max_actual_max_sell['customer_id'].map(customer_transaction_data.groupby('customer_id')['diff_actual_selling_price'].max())\n",
    "max_actual_max_sell['min_diff_actual_sell_price'] =  max_actual_max_sell['customer_id'].map(customer_transaction_data.groupby('customer_id')['diff_actual_selling_price'].min())\n",
    "max_actual_max_sell['max_ratio_actual_selling_price'] =  max_actual_max_sell['customer_id'].map(customer_transaction_data.groupby('customer_id')['ratio_actual_selling_price'].max())\n",
    "max_actual_max_sell['min_ratio_actual_selling_price'] =  max_actual_max_sell['customer_id'].map(customer_transaction_data.groupby('customer_id')['ratio_actual_selling_price'].min())\n",
    "\n",
    "max_actual_max_sell['diff_max_actual_max_sell_price'] = max_actual_max_sell['max_actual_price'] - max_actual_max_sell['max_sell_price']\n",
    "max_actual_max_sell['ratio_max_actual_max_sell_price'] = max_actual_max_sell['max_sell_price']/max_actual_max_sell['max_actual_price']\n",
    "\n",
    "max_actual_max_sell['purchase_count'] = max_actual_max_sell['customer_id'].map(customer_transaction_data.groupby('customer_id')['selling_price'].count())\n",
    "max_actual_max_sell['coupon_usage_count'] = max_actual_max_sell['customer_id'].map(coupon_used_transaction.groupby('customer_id')['coupon_discount'].count()).fillna(0)\n",
    "max_actual_max_sell['ratio_purchase_count_discount_count'] = max_actual_max_sell['coupon_usage_count']/max_actual_max_sell['purchase_count']\n",
    "max_actual_max_sell['coupon_usage_amt'] = max_actual_max_sell['customer_id'].map(coupon_used_transaction.groupby('customer_id')['coupon_discount'].sum()).fillna(0)\n",
    "max_actual_max_sell['max_coupon_usage_amt'] = max_actual_max_sell['customer_id'].map(coupon_used_transaction.groupby('customer_id')['coupon_discount'].min()).fillna(0)\n",
    "\n",
    "####in which transaction he used his first coupon\n",
    "coupon_first_day = customer_transaction_data[[\"customer_id\",\"date\",\"coupon_discount\"]].groupby(['customer_id','date'],sort = True).sum().reset_index().groupby(['customer_id']).head(1).reset_index()\n",
    "coupon_first_day.drop(['index','date'],axis =1,inplace = True)\n",
    "\n",
    "max_actual_max_sell = pd.merge(max_actual_max_sell,coupon_first_day,how = \"left\",on = \"customer_id\")\n",
    "\n",
    "### Since the min_diff_actual_sell_price and max_ratio_actual_selling_price is same for all the customers we are removing that that variable\n",
    "max_actual_max_sell.drop(['min_diff_actual_sell_price','max_ratio_actual_selling_price'],axis =1,inplace = True)"
   ]
  },
  {
   "cell_type": "code",
   "execution_count": 402,
   "metadata": {},
   "outputs": [],
   "source": [
    "coupon_item_mapping['item_list'] =  coupon_item_mapping['coupon_id'].map(coupon_item_mapping.groupby([\"coupon_id\"])[\"item_id\"].apply(list))\n",
    "\n",
    "coupon_item_mapping.drop(['item_id'],axis =1,inplace = True)\n",
    "\n",
    "coupon_item_mapping.drop_duplicates(subset = ['coupon_id'],inplace= True)"
   ]
  },
  {
   "cell_type": "code",
   "execution_count": 442,
   "metadata": {},
   "outputs": [],
   "source": [
    "merged_data = pd.merge(train,campaign_data,how = \"left\",on = \"campaign_id\" )\n",
    "\n",
    "merged_data = pd.merge(merged_data,coupon_item_mapping,how = \"left\",on = \"coupon_id\")\n",
    "\n",
    "merged_data = pd.merge(merged_data,customer_demographics,how = \"left\" , on = \"customer_id\")"
   ]
  },
  {
   "cell_type": "code",
   "execution_count": 443,
   "metadata": {},
   "outputs": [],
   "source": [
    "## transaction data\n",
    "merged_data['total_purchase_price'] = merged_data['customer_id'].map(customer_transaction_data.groupby('customer_id')['selling_price'].sum())\n",
    "merged_data = pd.merge(merged_data,max_purchase,how = \"left\", on = \"customer_id\")"
   ]
  },
  {
   "cell_type": "code",
   "execution_count": 444,
   "metadata": {},
   "outputs": [],
   "source": [
    "merged_data['len_item_list'] = merged_data['item_list'].apply(lambda x : len(x))\n",
    "\n",
    "merged_data.drop('item_list',axis =1,inplace = True)"
   ]
  },
  {
   "cell_type": "code",
   "execution_count": 445,
   "metadata": {
    "collapsed": true
   },
   "outputs": [
    {
     "data": {
      "text/html": [
       "<div>\n",
       "<style scoped>\n",
       "    .dataframe tbody tr th:only-of-type {\n",
       "        vertical-align: middle;\n",
       "    }\n",
       "\n",
       "    .dataframe tbody tr th {\n",
       "        vertical-align: top;\n",
       "    }\n",
       "\n",
       "    .dataframe thead th {\n",
       "        text-align: right;\n",
       "    }\n",
       "</style>\n",
       "<table border=\"1\" class=\"dataframe\">\n",
       "  <thead>\n",
       "    <tr style=\"text-align: right;\">\n",
       "      <th></th>\n",
       "      <th>id</th>\n",
       "      <th>campaign_id</th>\n",
       "      <th>coupon_id</th>\n",
       "      <th>customer_id</th>\n",
       "      <th>train</th>\n",
       "      <th>campaign_type</th>\n",
       "      <th>start_date</th>\n",
       "      <th>end_date</th>\n",
       "      <th>age_range</th>\n",
       "      <th>marital_status</th>\n",
       "      <th>rented</th>\n",
       "      <th>family_size</th>\n",
       "      <th>no_of_children</th>\n",
       "      <th>income_bracket</th>\n",
       "      <th>total_purchase_price</th>\n",
       "      <th>max_sell_price_item</th>\n",
       "      <th>max_sell_price</th>\n",
       "      <th>len_item_list</th>\n",
       "    </tr>\n",
       "  </thead>\n",
       "  <tbody>\n",
       "    <tr>\n",
       "      <th>2815</th>\n",
       "      <td>4674</td>\n",
       "      <td>29</td>\n",
       "      <td>597</td>\n",
       "      <td>1</td>\n",
       "      <td>Yes</td>\n",
       "      <td>Y</td>\n",
       "      <td>08/10/12</td>\n",
       "      <td>30/11/12</td>\n",
       "      <td>70+</td>\n",
       "      <td>Married</td>\n",
       "      <td>0.0</td>\n",
       "      <td>2</td>\n",
       "      <td>NaN</td>\n",
       "      <td>4.0</td>\n",
       "      <td>98513.93</td>\n",
       "      <td>73348</td>\n",
       "      <td>445.25</td>\n",
       "      <td>63</td>\n",
       "    </tr>\n",
       "    <tr>\n",
       "      <th>3062</th>\n",
       "      <td>5085</td>\n",
       "      <td>8</td>\n",
       "      <td>424</td>\n",
       "      <td>1</td>\n",
       "      <td>Yes</td>\n",
       "      <td>X</td>\n",
       "      <td>16/02/13</td>\n",
       "      <td>05/04/13</td>\n",
       "      <td>70+</td>\n",
       "      <td>Married</td>\n",
       "      <td>0.0</td>\n",
       "      <td>2</td>\n",
       "      <td>NaN</td>\n",
       "      <td>4.0</td>\n",
       "      <td>98513.93</td>\n",
       "      <td>73348</td>\n",
       "      <td>445.25</td>\n",
       "      <td>3</td>\n",
       "    </tr>\n",
       "  </tbody>\n",
       "</table>\n",
       "</div>"
      ],
      "text/plain": [
       "        id  campaign_id  coupon_id  customer_id train campaign_type  \\\n",
       "2815  4674           29        597            1   Yes             Y   \n",
       "3062  5085            8        424            1   Yes             X   \n",
       "\n",
       "     start_date  end_date age_range marital_status  rented family_size  \\\n",
       "2815   08/10/12  30/11/12       70+        Married     0.0           2   \n",
       "3062   16/02/13  05/04/13       70+        Married     0.0           2   \n",
       "\n",
       "     no_of_children  income_bracket  total_purchase_price  \\\n",
       "2815            NaN             4.0              98513.93   \n",
       "3062            NaN             4.0              98513.93   \n",
       "\n",
       "      max_sell_price_item  max_sell_price  len_item_list  \n",
       "2815                73348          445.25             63  \n",
       "3062                73348          445.25              3  "
      ]
     },
     "execution_count": 445,
     "metadata": {},
     "output_type": "execute_result"
    }
   ],
   "source": [
    "merged_data[merged_data['customer_id'] == 1].head(2)"
   ]
  },
  {
   "cell_type": "code",
   "execution_count": 446,
   "metadata": {},
   "outputs": [],
   "source": [
    "merged_data.drop(['age_range','marital_status','rented','family_size','no_of_children','income_bracket'],axis =1,inplace = True)"
   ]
  },
  {
   "cell_type": "code",
   "execution_count": 447,
   "metadata": {},
   "outputs": [],
   "source": [
    "merged_data = pd.merge(merged_data,max_actual_max_sell,how = \"left\", on = \"customer_id\",sort = True)"
   ]
  },
  {
   "cell_type": "code",
   "execution_count": 282,
   "metadata": {
    "collapsed": true
   },
   "outputs": [
    {
     "ename": "NameError",
     "evalue": "name 'merged_data' is not defined",
     "output_type": "error",
     "traceback": [
      "\u001b[1;31m---------------------------------------------------------------------------\u001b[0m",
      "\u001b[1;31mNameError\u001b[0m                                 Traceback (most recent call last)",
      "\u001b[1;32m<ipython-input-282-200ecb9f59f2>\u001b[0m in \u001b[0;36m<module>\u001b[1;34m\u001b[0m\n\u001b[1;32m----> 1\u001b[1;33m \u001b[0mmerged_data\u001b[0m\u001b[1;33m[\u001b[0m\u001b[1;34m'start_date'\u001b[0m\u001b[1;33m]\u001b[0m \u001b[1;33m=\u001b[0m \u001b[0mpd\u001b[0m\u001b[1;33m.\u001b[0m\u001b[0mto_datetime\u001b[0m\u001b[1;33m(\u001b[0m\u001b[0mmerged_data\u001b[0m\u001b[1;33m[\u001b[0m\u001b[1;34m'start_date'\u001b[0m\u001b[1;33m]\u001b[0m\u001b[1;33m,\u001b[0m\u001b[0mformat\u001b[0m \u001b[1;33m=\u001b[0m \u001b[1;34m\"%d/%m/%y\"\u001b[0m\u001b[1;33m)\u001b[0m\u001b[1;33m\u001b[0m\u001b[1;33m\u001b[0m\u001b[0m\n\u001b[0m\u001b[0;32m      2\u001b[0m \u001b[1;33m\u001b[0m\u001b[0m\n\u001b[0;32m      3\u001b[0m \u001b[0mmerged_data\u001b[0m\u001b[1;33m[\u001b[0m\u001b[1;34m'end_date'\u001b[0m\u001b[1;33m]\u001b[0m \u001b[1;33m=\u001b[0m \u001b[0mpd\u001b[0m\u001b[1;33m.\u001b[0m\u001b[0mto_datetime\u001b[0m\u001b[1;33m(\u001b[0m\u001b[0mmerged_data\u001b[0m\u001b[1;33m[\u001b[0m\u001b[1;34m'end_date'\u001b[0m\u001b[1;33m]\u001b[0m\u001b[1;33m,\u001b[0m\u001b[0mformat\u001b[0m \u001b[1;33m=\u001b[0m \u001b[1;34m\"%d/%m/%y\"\u001b[0m\u001b[1;33m)\u001b[0m\u001b[1;33m\u001b[0m\u001b[1;33m\u001b[0m\u001b[0m\n",
      "\u001b[1;31mNameError\u001b[0m: name 'merged_data' is not defined"
     ]
    }
   ],
   "source": [
    "merged_data['start_date'] = pd.to_datetime(merged_data['start_date'],format = \"%d/%m/%y\")\n",
    "\n",
    "merged_data['end_date'] = pd.to_datetime(merged_data['end_date'],format = \"%d/%m/%y\")"
   ]
  },
  {
   "cell_type": "code",
   "execution_count": 485,
   "metadata": {},
   "outputs": [],
   "source": [
    "merged_data['campaign_days'] = merged_data['end_date'] - merged_data['start_date']"
   ]
  },
  {
   "cell_type": "code",
   "execution_count": 288,
   "metadata": {
    "collapsed": true
   },
   "outputs": [
    {
     "data": {
      "text/plain": [
       "61"
      ]
     },
     "execution_count": 288,
     "metadata": {},
     "output_type": "execute_result"
    }
   ],
   "source": [
    "from datetime import date\n",
    "start=  pd.to_datetime('03/12/13',format = \"%d/%m/%y\")\n",
    "end =  pd.to_datetime('03/10/13',format = \"%d/%m/%y\")\n",
    "abs((start -end).days)"
   ]
  },
  {
   "cell_type": "code",
   "execution_count": 499,
   "metadata": {
    "collapsed": true
   },
   "outputs": [
    {
     "data": {
      "text/plain": [
       "0         4\n",
       "1         1\n",
       "2         1\n",
       "3         4\n",
       "4         2\n",
       "5         1\n",
       "6         4\n",
       "7         1\n",
       "8         2\n",
       "9         2\n",
       "10        4\n",
       "11        1\n",
       "12        2\n",
       "13        4\n",
       "14        2\n",
       "15        4\n",
       "16        4\n",
       "17        2\n",
       "18        4\n",
       "19        2\n",
       "20        1\n",
       "21        2\n",
       "22        4\n",
       "23        4\n",
       "24        4\n",
       "25        1\n",
       "26        1\n",
       "27        1\n",
       "28        2\n",
       "29        4\n",
       "         ..\n",
       "128565    3\n",
       "128566    3\n",
       "128567    3\n",
       "128568    3\n",
       "128569    3\n",
       "128570    3\n",
       "128571    3\n",
       "128572    3\n",
       "128573    3\n",
       "128574    3\n",
       "128575    3\n",
       "128576    3\n",
       "128577    3\n",
       "128578    3\n",
       "128579    3\n",
       "128580    3\n",
       "128581    3\n",
       "128582    3\n",
       "128583    3\n",
       "128584    3\n",
       "128585    3\n",
       "128586    3\n",
       "128587    3\n",
       "128588    3\n",
       "128589    3\n",
       "128590    3\n",
       "128591    3\n",
       "128592    3\n",
       "128593    3\n",
       "128594    3\n",
       "Name: start_date, Length: 128595, dtype: int64"
      ]
     },
     "execution_count": 499,
     "metadata": {},
     "output_type": "execute_result"
    }
   ],
   "source": [
    "merged_data['start_date'].dt.quarter"
   ]
  },
  {
   "cell_type": "code",
   "execution_count": 501,
   "metadata": {},
   "outputs": [],
   "source": [
    "merged_data['start_date_month_end'] = merged_data['start_date'].dt.is_month_end\n",
    "merged_data['end_date_month_end'] = merged_data['end_date'].dt.is_month_end\n",
    "merged_data['start_date_year_end'] = merged_data['start_date'].dt.is_year_end\n",
    "merged_data['start_date_quarter'] = merged_data['start_date'].dt.quarter"
   ]
  },
  {
   "cell_type": "code",
   "execution_count": 506,
   "metadata": {},
   "outputs": [],
   "source": [
    "drop_columns = ['campaign_id','coupon_id','start_date','end_date']\n",
    "merged_data.drop(drop_columns, axis = 1,inplace = True)"
   ]
  },
  {
   "cell_type": "code",
   "execution_count": 508,
   "metadata": {
    "collapsed": true
   },
   "outputs": [
    {
     "data": {
      "text/html": [
       "<div>\n",
       "<style scoped>\n",
       "    .dataframe tbody tr th:only-of-type {\n",
       "        vertical-align: middle;\n",
       "    }\n",
       "\n",
       "    .dataframe tbody tr th {\n",
       "        vertical-align: top;\n",
       "    }\n",
       "\n",
       "    .dataframe thead th {\n",
       "        text-align: right;\n",
       "    }\n",
       "</style>\n",
       "<table border=\"1\" class=\"dataframe\">\n",
       "  <thead>\n",
       "    <tr style=\"text-align: right;\">\n",
       "      <th></th>\n",
       "      <th>id</th>\n",
       "      <th>customer_id</th>\n",
       "      <th>train</th>\n",
       "      <th>campaign_type</th>\n",
       "      <th>total_purchase_price</th>\n",
       "      <th>max_sell_price_item_x</th>\n",
       "      <th>max_sell_price_x</th>\n",
       "      <th>len_item_list</th>\n",
       "      <th>max_actual_price</th>\n",
       "      <th>max_sell_price_item_y</th>\n",
       "      <th>...</th>\n",
       "      <th>coupon_usage_count</th>\n",
       "      <th>ratio_purchase_count_discount_count</th>\n",
       "      <th>coupon_usage_amt</th>\n",
       "      <th>max_coupon_usage_amt</th>\n",
       "      <th>coupon_discount</th>\n",
       "      <th>campaign_days</th>\n",
       "      <th>start_date_month_end</th>\n",
       "      <th>end_date_month_end</th>\n",
       "      <th>start_date_year_end</th>\n",
       "      <th>start_date_quarter</th>\n",
       "    </tr>\n",
       "  </thead>\n",
       "  <tbody>\n",
       "    <tr>\n",
       "      <th>0</th>\n",
       "      <td>4674</td>\n",
       "      <td>1</td>\n",
       "      <td>Yes</td>\n",
       "      <td>Y</td>\n",
       "      <td>98513.93</td>\n",
       "      <td>73348</td>\n",
       "      <td>445.25</td>\n",
       "      <td>63</td>\n",
       "      <td>906.53</td>\n",
       "      <td>73348</td>\n",
       "      <td>...</td>\n",
       "      <td>78.0</td>\n",
       "      <td>0.074427</td>\n",
       "      <td>-2116.83</td>\n",
       "      <td>-106.86</td>\n",
       "      <td>-35.62</td>\n",
       "      <td>53 days</td>\n",
       "      <td>False</td>\n",
       "      <td>True</td>\n",
       "      <td>False</td>\n",
       "      <td>4</td>\n",
       "    </tr>\n",
       "    <tr>\n",
       "      <th>1</th>\n",
       "      <td>5085</td>\n",
       "      <td>1</td>\n",
       "      <td>Yes</td>\n",
       "      <td>X</td>\n",
       "      <td>98513.93</td>\n",
       "      <td>73348</td>\n",
       "      <td>445.25</td>\n",
       "      <td>3</td>\n",
       "      <td>906.53</td>\n",
       "      <td>73348</td>\n",
       "      <td>...</td>\n",
       "      <td>78.0</td>\n",
       "      <td>0.074427</td>\n",
       "      <td>-2116.83</td>\n",
       "      <td>-106.86</td>\n",
       "      <td>-35.62</td>\n",
       "      <td>48 days</td>\n",
       "      <td>False</td>\n",
       "      <td>False</td>\n",
       "      <td>False</td>\n",
       "      <td>1</td>\n",
       "    </tr>\n",
       "  </tbody>\n",
       "</table>\n",
       "<p>2 rows × 26 columns</p>\n",
       "</div>"
      ],
      "text/plain": [
       "     id  customer_id train campaign_type  total_purchase_price  \\\n",
       "0  4674            1   Yes             Y              98513.93   \n",
       "1  5085            1   Yes             X              98513.93   \n",
       "\n",
       "   max_sell_price_item_x  max_sell_price_x  len_item_list  max_actual_price  \\\n",
       "0                  73348            445.25             63            906.53   \n",
       "1                  73348            445.25              3            906.53   \n",
       "\n",
       "   max_sell_price_item_y  ...  coupon_usage_count  \\\n",
       "0                  73348  ...                78.0   \n",
       "1                  73348  ...                78.0   \n",
       "\n",
       "   ratio_purchase_count_discount_count  coupon_usage_amt  \\\n",
       "0                             0.074427          -2116.83   \n",
       "1                             0.074427          -2116.83   \n",
       "\n",
       "   max_coupon_usage_amt  coupon_discount  campaign_days  start_date_month_end  \\\n",
       "0               -106.86           -35.62        53 days                 False   \n",
       "1               -106.86           -35.62        48 days                 False   \n",
       "\n",
       "   end_date_month_end  start_date_year_end  start_date_quarter  \n",
       "0                True                False                   4  \n",
       "1               False                False                   1  \n",
       "\n",
       "[2 rows x 26 columns]"
      ]
     },
     "execution_count": 508,
     "metadata": {},
     "output_type": "execute_result"
    }
   ],
   "source": [
    "merged_data.head(2)"
   ]
  },
  {
   "cell_type": "code",
   "execution_count": 519,
   "metadata": {
    "collapsed": true
   },
   "outputs": [
    {
     "data": {
      "text/plain": [
       "0.0201865533565568"
      ]
     },
     "execution_count": 519,
     "metadata": {},
     "output_type": "execute_result"
    }
   ],
   "source": [
    "merged_data['customer_id'].nunique()/train_data.shape[0]"
   ]
  },
  {
   "cell_type": "code",
   "execution_count": 525,
   "metadata": {},
   "outputs": [],
   "source": [
    "train_data = merged_data.loc[merged_data['train'] == 'Yes']\n",
    "test_data = merged_data.loc[merged_data['train'] == 'No']"
   ]
  },
  {
   "cell_type": "code",
   "execution_count": 523,
   "metadata": {},
   "outputs": [],
   "source": [
    "data = pd.read_csv(\"C:/Users/kxj133/Desktop/AV2/train.csv\")"
   ]
  },
  {
   "cell_type": "code",
   "execution_count": 524,
   "metadata": {
    "collapsed": true
   },
   "outputs": [
    {
     "data": {
      "text/plain": [
       "Index(['id', 'campaign_id', 'coupon_id', 'customer_id', 'redemption_status'], dtype='object')"
      ]
     },
     "execution_count": 524,
     "metadata": {},
     "output_type": "execute_result"
    }
   ],
   "source": [
    "data.columns"
   ]
  },
  {
   "cell_type": "code",
   "execution_count": 543,
   "metadata": {},
   "outputs": [],
   "source": [
    "final_data = pd.merge(train_data,data[['id','redemption_status']], how = 'left',on = 'id')"
   ]
  },
  {
   "cell_type": "code",
   "execution_count": 544,
   "metadata": {
    "collapsed": true
   },
   "outputs": [
    {
     "data": {
      "text/html": [
       "<div>\n",
       "<style scoped>\n",
       "    .dataframe tbody tr th:only-of-type {\n",
       "        vertical-align: middle;\n",
       "    }\n",
       "\n",
       "    .dataframe tbody tr th {\n",
       "        vertical-align: top;\n",
       "    }\n",
       "\n",
       "    .dataframe thead th {\n",
       "        text-align: right;\n",
       "    }\n",
       "</style>\n",
       "<table border=\"1\" class=\"dataframe\">\n",
       "  <thead>\n",
       "    <tr style=\"text-align: right;\">\n",
       "      <th></th>\n",
       "      <th>id</th>\n",
       "      <th>customer_id</th>\n",
       "      <th>train</th>\n",
       "      <th>campaign_type</th>\n",
       "      <th>total_purchase_price</th>\n",
       "      <th>max_sell_price_item_x</th>\n",
       "      <th>max_sell_price_x</th>\n",
       "      <th>len_item_list</th>\n",
       "      <th>max_actual_price</th>\n",
       "      <th>max_sell_price_item_y</th>\n",
       "      <th>...</th>\n",
       "      <th>ratio_purchase_count_discount_count</th>\n",
       "      <th>coupon_usage_amt</th>\n",
       "      <th>max_coupon_usage_amt</th>\n",
       "      <th>coupon_discount</th>\n",
       "      <th>campaign_days</th>\n",
       "      <th>start_date_month_end</th>\n",
       "      <th>end_date_month_end</th>\n",
       "      <th>start_date_year_end</th>\n",
       "      <th>start_date_quarter</th>\n",
       "      <th>redemption_status</th>\n",
       "    </tr>\n",
       "  </thead>\n",
       "  <tbody>\n",
       "    <tr>\n",
       "      <th>0</th>\n",
       "      <td>4674</td>\n",
       "      <td>1</td>\n",
       "      <td>Yes</td>\n",
       "      <td>Y</td>\n",
       "      <td>98513.93</td>\n",
       "      <td>73348</td>\n",
       "      <td>445.25</td>\n",
       "      <td>63</td>\n",
       "      <td>906.53</td>\n",
       "      <td>73348</td>\n",
       "      <td>...</td>\n",
       "      <td>0.074427</td>\n",
       "      <td>-2116.83</td>\n",
       "      <td>-106.86</td>\n",
       "      <td>-35.62</td>\n",
       "      <td>53 days</td>\n",
       "      <td>False</td>\n",
       "      <td>True</td>\n",
       "      <td>False</td>\n",
       "      <td>4</td>\n",
       "      <td>0</td>\n",
       "    </tr>\n",
       "    <tr>\n",
       "      <th>1</th>\n",
       "      <td>5085</td>\n",
       "      <td>1</td>\n",
       "      <td>Yes</td>\n",
       "      <td>X</td>\n",
       "      <td>98513.93</td>\n",
       "      <td>73348</td>\n",
       "      <td>445.25</td>\n",
       "      <td>3</td>\n",
       "      <td>906.53</td>\n",
       "      <td>73348</td>\n",
       "      <td>...</td>\n",
       "      <td>0.074427</td>\n",
       "      <td>-2116.83</td>\n",
       "      <td>-106.86</td>\n",
       "      <td>-35.62</td>\n",
       "      <td>48 days</td>\n",
       "      <td>False</td>\n",
       "      <td>False</td>\n",
       "      <td>False</td>\n",
       "      <td>1</td>\n",
       "      <td>0</td>\n",
       "    </tr>\n",
       "  </tbody>\n",
       "</table>\n",
       "<p>2 rows × 27 columns</p>\n",
       "</div>"
      ],
      "text/plain": [
       "     id  customer_id train campaign_type  total_purchase_price  \\\n",
       "0  4674            1   Yes             Y              98513.93   \n",
       "1  5085            1   Yes             X              98513.93   \n",
       "\n",
       "   max_sell_price_item_x  max_sell_price_x  len_item_list  max_actual_price  \\\n",
       "0                  73348            445.25             63            906.53   \n",
       "1                  73348            445.25              3            906.53   \n",
       "\n",
       "   max_sell_price_item_y  ...  ratio_purchase_count_discount_count  \\\n",
       "0                  73348  ...                             0.074427   \n",
       "1                  73348  ...                             0.074427   \n",
       "\n",
       "   coupon_usage_amt  max_coupon_usage_amt  coupon_discount  campaign_days  \\\n",
       "0          -2116.83               -106.86           -35.62        53 days   \n",
       "1          -2116.83               -106.86           -35.62        48 days   \n",
       "\n",
       "   start_date_month_end  end_date_month_end  start_date_year_end  \\\n",
       "0                 False                True                False   \n",
       "1                 False               False                False   \n",
       "\n",
       "   start_date_quarter  redemption_status  \n",
       "0                   4                  0  \n",
       "1                   1                  0  \n",
       "\n",
       "[2 rows x 27 columns]"
      ]
     },
     "execution_count": 544,
     "metadata": {},
     "output_type": "execute_result"
    }
   ],
   "source": [
    "final_data.head(2)"
   ]
  },
  {
   "cell_type": "code",
   "execution_count": 545,
   "metadata": {},
   "outputs": [],
   "source": [
    "final_data.drop(['train','customer_id','id','campaign_days'],axis =1,inplace = True)"
   ]
  },
  {
   "cell_type": "code",
   "execution_count": 546,
   "metadata": {},
   "outputs": [],
   "source": [
    "le = LabelEncoder()\n",
    "final_data['campaign_type'] = le.fit_transform(final_data['campaign_type'])"
   ]
  }
 ],
 "metadata": {
  "kernelspec": {
   "display_name": "Python 3",
   "language": "python",
   "name": "python3"
  },
  "language_info": {
   "codemirror_mode": {
    "name": "ipython",
    "version": 3
   },
   "file_extension": ".py",
   "mimetype": "text/x-python",
   "name": "python",
   "nbconvert_exporter": "python",
   "pygments_lexer": "ipython3",
   "version": "3.7.3"
  }
 },
 "nbformat": 4,
 "nbformat_minor": 2
}
