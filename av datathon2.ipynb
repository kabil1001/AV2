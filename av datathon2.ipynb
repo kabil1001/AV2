{
 "cells": [
  {
   "cell_type": "code",
   "execution_count": 549,
   "metadata": {},
   "outputs": [],
   "source": [
    "import pandas as pd\n",
    "import numpy as np\n",
    "from sklearn.preprocessing import LabelEncoder\n",
    "from sklearn.model_selection import train_test_split\n",
    "from lightgbm import LGBMClassifier\n",
    "from sklearn.metrics import log_loss"
   ]
  },
  {
   "cell_type": "code",
   "execution_count": 394,
   "metadata": {},
   "outputs": [],
   "source": [
    "train_x = pd.read_csv(\"C:/Users/kxj133/Desktop/AV2/train.csv\")\n",
    "test = pd.read_csv(\"C:/Users/kxj133/Desktop/AV2/test.csv\")\n",
    "\n",
    "train_x.drop(['redemption_status'],axis =1,inplace = True)\n",
    "\n",
    "train_x['train'] = \"Yes\"\n",
    "test['train'] = \"No\"\n",
    "\n",
    "train = pd.concat([train_x,test],axis =0,sort = False).reset_index()\n",
    "train.drop('index',inplace = True,axis =1)"
   ]
  },
  {
   "cell_type": "code",
   "execution_count": 395,
   "metadata": {
    "collapsed": true
   },
   "outputs": [
    {
     "data": {
      "text/html": [
       "<div>\n",
       "<style scoped>\n",
       "    .dataframe tbody tr th:only-of-type {\n",
       "        vertical-align: middle;\n",
       "    }\n",
       "\n",
       "    .dataframe tbody tr th {\n",
       "        vertical-align: top;\n",
       "    }\n",
       "\n",
       "    .dataframe thead th {\n",
       "        text-align: right;\n",
       "    }\n",
       "</style>\n",
       "<table border=\"1\" class=\"dataframe\">\n",
       "  <thead>\n",
       "    <tr style=\"text-align: right;\">\n",
       "      <th></th>\n",
       "      <th>id</th>\n",
       "      <th>campaign_id</th>\n",
       "      <th>coupon_id</th>\n",
       "      <th>customer_id</th>\n",
       "      <th>train</th>\n",
       "    </tr>\n",
       "  </thead>\n",
       "  <tbody>\n",
       "    <tr>\n",
       "      <th>128590</th>\n",
       "      <td>128584</td>\n",
       "      <td>20</td>\n",
       "      <td>843</td>\n",
       "      <td>501</td>\n",
       "      <td>No</td>\n",
       "    </tr>\n",
       "    <tr>\n",
       "      <th>128591</th>\n",
       "      <td>128588</td>\n",
       "      <td>25</td>\n",
       "      <td>415</td>\n",
       "      <td>481</td>\n",
       "      <td>No</td>\n",
       "    </tr>\n",
       "    <tr>\n",
       "      <th>128592</th>\n",
       "      <td>128591</td>\n",
       "      <td>25</td>\n",
       "      <td>596</td>\n",
       "      <td>1336</td>\n",
       "      <td>No</td>\n",
       "    </tr>\n",
       "    <tr>\n",
       "      <th>128593</th>\n",
       "      <td>128593</td>\n",
       "      <td>22</td>\n",
       "      <td>518</td>\n",
       "      <td>748</td>\n",
       "      <td>No</td>\n",
       "    </tr>\n",
       "    <tr>\n",
       "      <th>128594</th>\n",
       "      <td>128594</td>\n",
       "      <td>18</td>\n",
       "      <td>988</td>\n",
       "      <td>851</td>\n",
       "      <td>No</td>\n",
       "    </tr>\n",
       "  </tbody>\n",
       "</table>\n",
       "</div>"
      ],
      "text/plain": [
       "            id  campaign_id  coupon_id  customer_id train\n",
       "128590  128584           20        843          501    No\n",
       "128591  128588           25        415          481    No\n",
       "128592  128591           25        596         1336    No\n",
       "128593  128593           22        518          748    No\n",
       "128594  128594           18        988          851    No"
      ]
     },
     "execution_count": 395,
     "metadata": {},
     "output_type": "execute_result"
    }
   ],
   "source": [
    "train.tail()"
   ]
  },
  {
   "cell_type": "code",
   "execution_count": 399,
   "metadata": {},
   "outputs": [],
   "source": [
    "campaign_data = pd.read_csv(\"C:/Users/kxj133/Desktop/AV2/campaign_data.csv\")\n",
    "coupon_item_mapping = pd.read_csv(\"C:/Users/kxj133/Desktop/AV2/coupon_item_mapping.csv\")\n",
    "customer_demographics = pd.read_csv(\"C:/Users/kxj133/Desktop/AV2/customer_demographics.csv\")\n",
    "customer_transaction_data = pd.read_csv(\"C:/Users/kxj133/Desktop/AV2/customer_transaction_data.csv\")\n",
    "item_data =  pd.read_csv(\"C:/Users/kxj133/Desktop/AV2/item_data.csv\")"
   ]
  },
  {
   "cell_type": "code",
   "execution_count": 342,
   "metadata": {
    "collapsed": true
   },
   "outputs": [
    {
     "data": {
      "text/html": [
       "<div>\n",
       "<style scoped>\n",
       "    .dataframe tbody tr th:only-of-type {\n",
       "        vertical-align: middle;\n",
       "    }\n",
       "\n",
       "    .dataframe tbody tr th {\n",
       "        vertical-align: top;\n",
       "    }\n",
       "\n",
       "    .dataframe thead th {\n",
       "        text-align: right;\n",
       "    }\n",
       "</style>\n",
       "<table border=\"1\" class=\"dataframe\">\n",
       "  <thead>\n",
       "    <tr style=\"text-align: right;\">\n",
       "      <th></th>\n",
       "      <th>item_id</th>\n",
       "      <th>brand</th>\n",
       "      <th>brand_type</th>\n",
       "      <th>category</th>\n",
       "    </tr>\n",
       "  </thead>\n",
       "  <tbody>\n",
       "    <tr>\n",
       "      <th>0</th>\n",
       "      <td>1</td>\n",
       "      <td>1</td>\n",
       "      <td>Established</td>\n",
       "      <td>Grocery</td>\n",
       "    </tr>\n",
       "    <tr>\n",
       "      <th>1</th>\n",
       "      <td>2</td>\n",
       "      <td>1</td>\n",
       "      <td>Established</td>\n",
       "      <td>Miscellaneous</td>\n",
       "    </tr>\n",
       "    <tr>\n",
       "      <th>2</th>\n",
       "      <td>3</td>\n",
       "      <td>56</td>\n",
       "      <td>Local</td>\n",
       "      <td>Bakery</td>\n",
       "    </tr>\n",
       "    <tr>\n",
       "      <th>3</th>\n",
       "      <td>4</td>\n",
       "      <td>56</td>\n",
       "      <td>Local</td>\n",
       "      <td>Grocery</td>\n",
       "    </tr>\n",
       "    <tr>\n",
       "      <th>4</th>\n",
       "      <td>5</td>\n",
       "      <td>56</td>\n",
       "      <td>Local</td>\n",
       "      <td>Grocery</td>\n",
       "    </tr>\n",
       "  </tbody>\n",
       "</table>\n",
       "</div>"
      ],
      "text/plain": [
       "   item_id  brand   brand_type       category\n",
       "0        1      1  Established        Grocery\n",
       "1        2      1  Established  Miscellaneous\n",
       "2        3     56        Local         Bakery\n",
       "3        4     56        Local        Grocery\n",
       "4        5     56        Local        Grocery"
      ]
     },
     "execution_count": 342,
     "metadata": {},
     "output_type": "execute_result"
    }
   ],
   "source": [
    "item_data.head(5)"
   ]
  },
  {
   "cell_type": "code",
   "execution_count": 369,
   "metadata": {
    "collapsed": true
   },
   "outputs": [
    {
     "data": {
      "text/html": [
       "<div>\n",
       "<style scoped>\n",
       "    .dataframe tbody tr th:only-of-type {\n",
       "        vertical-align: middle;\n",
       "    }\n",
       "\n",
       "    .dataframe tbody tr th {\n",
       "        vertical-align: top;\n",
       "    }\n",
       "\n",
       "    .dataframe thead th {\n",
       "        text-align: right;\n",
       "    }\n",
       "</style>\n",
       "<table border=\"1\" class=\"dataframe\">\n",
       "  <thead>\n",
       "    <tr style=\"text-align: right;\">\n",
       "      <th></th>\n",
       "      <th>date</th>\n",
       "      <th>customer_id</th>\n",
       "      <th>item_id</th>\n",
       "      <th>quantity</th>\n",
       "      <th>selling_price</th>\n",
       "      <th>other_discount</th>\n",
       "      <th>coupon_discount</th>\n",
       "      <th>actual_price</th>\n",
       "      <th>diff_actual_selling_price</th>\n",
       "    </tr>\n",
       "  </thead>\n",
       "  <tbody>\n",
       "    <tr>\n",
       "      <th>0</th>\n",
       "      <td>2012-01-02</td>\n",
       "      <td>1501</td>\n",
       "      <td>26830</td>\n",
       "      <td>1</td>\n",
       "      <td>35.26</td>\n",
       "      <td>-10.69</td>\n",
       "      <td>0.0</td>\n",
       "      <td>45.95</td>\n",
       "      <td>10.69</td>\n",
       "    </tr>\n",
       "    <tr>\n",
       "      <th>1</th>\n",
       "      <td>2012-01-02</td>\n",
       "      <td>1501</td>\n",
       "      <td>54253</td>\n",
       "      <td>1</td>\n",
       "      <td>53.43</td>\n",
       "      <td>-13.89</td>\n",
       "      <td>0.0</td>\n",
       "      <td>67.32</td>\n",
       "      <td>13.89</td>\n",
       "    </tr>\n",
       "    <tr>\n",
       "      <th>2</th>\n",
       "      <td>2012-01-02</td>\n",
       "      <td>1501</td>\n",
       "      <td>31962</td>\n",
       "      <td>1</td>\n",
       "      <td>106.50</td>\n",
       "      <td>-14.25</td>\n",
       "      <td>0.0</td>\n",
       "      <td>120.75</td>\n",
       "      <td>14.25</td>\n",
       "    </tr>\n",
       "    <tr>\n",
       "      <th>3</th>\n",
       "      <td>2012-01-02</td>\n",
       "      <td>1501</td>\n",
       "      <td>33647</td>\n",
       "      <td>1</td>\n",
       "      <td>67.32</td>\n",
       "      <td>0.00</td>\n",
       "      <td>0.0</td>\n",
       "      <td>67.32</td>\n",
       "      <td>0.00</td>\n",
       "    </tr>\n",
       "    <tr>\n",
       "      <th>4</th>\n",
       "      <td>2012-01-02</td>\n",
       "      <td>1501</td>\n",
       "      <td>48199</td>\n",
       "      <td>1</td>\n",
       "      <td>71.24</td>\n",
       "      <td>-28.14</td>\n",
       "      <td>0.0</td>\n",
       "      <td>99.38</td>\n",
       "      <td>28.14</td>\n",
       "    </tr>\n",
       "  </tbody>\n",
       "</table>\n",
       "</div>"
      ],
      "text/plain": [
       "         date  customer_id  item_id  quantity  selling_price  other_discount  \\\n",
       "0  2012-01-02         1501    26830         1          35.26          -10.69   \n",
       "1  2012-01-02         1501    54253         1          53.43          -13.89   \n",
       "2  2012-01-02         1501    31962         1         106.50          -14.25   \n",
       "3  2012-01-02         1501    33647         1          67.32            0.00   \n",
       "4  2012-01-02         1501    48199         1          71.24          -28.14   \n",
       "\n",
       "   coupon_discount  actual_price  diff_actual_selling_price  \n",
       "0              0.0         45.95                      10.69  \n",
       "1              0.0         67.32                      13.89  \n",
       "2              0.0        120.75                      14.25  \n",
       "3              0.0         67.32                       0.00  \n",
       "4              0.0         99.38                      28.14  "
      ]
     },
     "execution_count": 369,
     "metadata": {},
     "output_type": "execute_result"
    }
   ],
   "source": [
    "customer_transaction_data.head()"
   ]
  },
  {
   "cell_type": "code",
   "execution_count": 401,
   "metadata": {},
   "outputs": [],
   "source": [
    "customer_transaction_data['actual_price'] = customer_transaction_data[\"selling_price\"] + (customer_transaction_data['other_discount'] * (-1)) + (customer_transaction_data['coupon_discount'] * (-1)) \n",
    "customer_transaction_data['diff_actual_selling_price'] = customer_transaction_data['actual_price']- customer_transaction_data['selling_price']\n",
    "customer_transaction_data['ratio_actual_selling_price'] = customer_transaction_data['selling_price']/customer_transaction_data['actual_price'] \n",
    "###customer_transaction_data aggregation\n",
    "#customer_transaction_data.groupby('customer_id')['selling_price'].sum()\n",
    "\n",
    "max_purchase = customer_transaction_data.groupby(['customer_id'],sort = True)['item_id','selling_price'].max()\n",
    "max_purchase = max_purchase.rename(columns = {'item_id' : 'max_sell_price_item',\"selling_price\" : 'max_sell_price'})\n",
    "max_actual_price_purchase = customer_transaction_data.groupby(['customer_id'],sort = True)['item_id','actual_price'].max()\n",
    "max_actual_price_purchase = max_actual_price_purchase.rename(columns = {'item_id' : 'max_actual_price_item',\"actual_price\" : 'max_actual_price'})\n",
    "\n",
    "max_actual_max_sell = pd.concat([max_actual_price_purchase,max_purchase],axis =1)\n",
    "\n",
    "max_actual_max_sell = max_actual_max_sell.reset_index()\n",
    "max_actual_max_sell.drop(['max_actual_price_item'],axis =1,inplace = True)\n",
    "\n",
    "max_actual_max_sell['max_diff_actual_sell_price'] =  max_actual_max_sell['customer_id'].map(customer_transaction_data.groupby('customer_id')['diff_actual_selling_price'].max())\n",
    "max_actual_max_sell['min_diff_actual_sell_price'] =  max_actual_max_sell['customer_id'].map(customer_transaction_data.groupby('customer_id')['diff_actual_selling_price'].min())\n",
    "max_actual_max_sell['max_ratio_actual_selling_price'] =  max_actual_max_sell['customer_id'].map(customer_transaction_data.groupby('customer_id')['ratio_actual_selling_price'].max())\n",
    "max_actual_max_sell['min_ratio_actual_selling_price'] =  max_actual_max_sell['customer_id'].map(customer_transaction_data.groupby('customer_id')['ratio_actual_selling_price'].min())\n",
    "\n",
    "max_actual_max_sell['diff_max_actual_max_sell_price'] = max_actual_max_sell['max_actual_price'] - max_actual_max_sell['max_sell_price']\n",
    "max_actual_max_sell['ratio_max_actual_max_sell_price'] = max_actual_max_sell['max_sell_price']/max_actual_max_sell['max_actual_price']\n",
    "\n",
    "max_actual_max_sell['purchase_count'] = max_actual_max_sell['customer_id'].map(customer_transaction_data.groupby('customer_id')['selling_price'].count())\n",
    "max_actual_max_sell['coupon_usage_count'] = max_actual_max_sell['customer_id'].map(coupon_used_transaction.groupby('customer_id')['coupon_discount'].count()).fillna(0)\n",
    "max_actual_max_sell['ratio_purchase_count_discount_count'] = max_actual_max_sell['coupon_usage_count']/max_actual_max_sell['purchase_count']\n",
    "max_actual_max_sell['coupon_usage_amt'] = max_actual_max_sell['customer_id'].map(coupon_used_transaction.groupby('customer_id')['coupon_discount'].sum()).fillna(0)\n",
    "max_actual_max_sell['max_coupon_usage_amt'] = max_actual_max_sell['customer_id'].map(coupon_used_transaction.groupby('customer_id')['coupon_discount'].min()).fillna(0)\n",
    "\n",
    "####in which transaction he used his first coupon\n",
    "coupon_first_day = customer_transaction_data[[\"customer_id\",\"date\",\"coupon_discount\"]].groupby(['customer_id','date'],sort = True).sum().reset_index().groupby(['customer_id']).head(1).reset_index()\n",
    "coupon_first_day.drop(['index','date'],axis =1,inplace = True)\n",
    "\n",
    "max_actual_max_sell = pd.merge(max_actual_max_sell,coupon_first_day,how = \"left\",on = \"customer_id\")\n",
    "\n",
    "### Since the min_diff_actual_sell_price and max_ratio_actual_selling_price is same for all the customers we are removing that that variable\n",
    "max_actual_max_sell.drop(['min_diff_actual_sell_price','max_ratio_actual_selling_price'],axis =1,inplace = True)"
   ]
  },
  {
   "cell_type": "code",
   "execution_count": 402,
   "metadata": {},
   "outputs": [],
   "source": [
    "coupon_item_mapping['item_list'] =  coupon_item_mapping['coupon_id'].map(coupon_item_mapping.groupby([\"coupon_id\"])[\"item_id\"].apply(list))\n",
    "\n",
    "coupon_item_mapping.drop(['item_id'],axis =1,inplace = True)\n",
    "\n",
    "coupon_item_mapping.drop_duplicates(subset = ['coupon_id'],inplace= True)"
   ]
  },
  {
   "cell_type": "code",
   "execution_count": 442,
   "metadata": {},
   "outputs": [],
   "source": [
    "merged_data = pd.merge(train,campaign_data,how = \"left\",on = \"campaign_id\" )\n",
    "\n",
    "merged_data = pd.merge(merged_data,coupon_item_mapping,how = \"left\",on = \"coupon_id\")\n",
    "\n",
    "merged_data = pd.merge(merged_data,customer_demographics,how = \"left\" , on = \"customer_id\")"
   ]
  },
  {
   "cell_type": "code",
   "execution_count": 443,
   "metadata": {},
   "outputs": [],
   "source": [
    "## transaction data\n",
    "merged_data['total_purchase_price'] = merged_data['customer_id'].map(customer_transaction_data.groupby('customer_id')['selling_price'].sum())\n",
    "merged_data = pd.merge(merged_data,max_purchase,how = \"left\", on = \"customer_id\")"
   ]
  },
  {
   "cell_type": "code",
   "execution_count": 444,
   "metadata": {},
   "outputs": [],
   "source": [
    "merged_data['len_item_list'] = merged_data['item_list'].apply(lambda x : len(x))\n",
    "\n",
    "merged_data.drop('item_list',axis =1,inplace = True)"
   ]
  },
  {
   "cell_type": "code",
   "execution_count": 445,
   "metadata": {
    "collapsed": true
   },
   "outputs": [
    {
     "data": {
      "text/html": [
       "<div>\n",
       "<style scoped>\n",
       "    .dataframe tbody tr th:only-of-type {\n",
       "        vertical-align: middle;\n",
       "    }\n",
       "\n",
       "    .dataframe tbody tr th {\n",
       "        vertical-align: top;\n",
       "    }\n",
       "\n",
       "    .dataframe thead th {\n",
       "        text-align: right;\n",
       "    }\n",
       "</style>\n",
       "<table border=\"1\" class=\"dataframe\">\n",
       "  <thead>\n",
       "    <tr style=\"text-align: right;\">\n",
       "      <th></th>\n",
       "      <th>id</th>\n",
       "      <th>campaign_id</th>\n",
       "      <th>coupon_id</th>\n",
       "      <th>customer_id</th>\n",
       "      <th>train</th>\n",
       "      <th>campaign_type</th>\n",
       "      <th>start_date</th>\n",
       "      <th>end_date</th>\n",
       "      <th>age_range</th>\n",
       "      <th>marital_status</th>\n",
       "      <th>rented</th>\n",
       "      <th>family_size</th>\n",
       "      <th>no_of_children</th>\n",
       "      <th>income_bracket</th>\n",
       "      <th>total_purchase_price</th>\n",
       "      <th>max_sell_price_item</th>\n",
       "      <th>max_sell_price</th>\n",
       "      <th>len_item_list</th>\n",
       "    </tr>\n",
       "  </thead>\n",
       "  <tbody>\n",
       "    <tr>\n",
       "      <th>2815</th>\n",
       "      <td>4674</td>\n",
       "      <td>29</td>\n",
       "      <td>597</td>\n",
       "      <td>1</td>\n",
       "      <td>Yes</td>\n",
       "      <td>Y</td>\n",
       "      <td>08/10/12</td>\n",
       "      <td>30/11/12</td>\n",
       "      <td>70+</td>\n",
       "      <td>Married</td>\n",
       "      <td>0.0</td>\n",
       "      <td>2</td>\n",
       "      <td>NaN</td>\n",
       "      <td>4.0</td>\n",
       "      <td>98513.93</td>\n",
       "      <td>73348</td>\n",
       "      <td>445.25</td>\n",
       "      <td>63</td>\n",
       "    </tr>\n",
       "    <tr>\n",
       "      <th>3062</th>\n",
       "      <td>5085</td>\n",
       "      <td>8</td>\n",
       "      <td>424</td>\n",
       "      <td>1</td>\n",
       "      <td>Yes</td>\n",
       "      <td>X</td>\n",
       "      <td>16/02/13</td>\n",
       "      <td>05/04/13</td>\n",
       "      <td>70+</td>\n",
       "      <td>Married</td>\n",
       "      <td>0.0</td>\n",
       "      <td>2</td>\n",
       "      <td>NaN</td>\n",
       "      <td>4.0</td>\n",
       "      <td>98513.93</td>\n",
       "      <td>73348</td>\n",
       "      <td>445.25</td>\n",
       "      <td>3</td>\n",
       "    </tr>\n",
       "  </tbody>\n",
       "</table>\n",
       "</div>"
      ],
      "text/plain": [
       "        id  campaign_id  coupon_id  customer_id train campaign_type  \\\n",
       "2815  4674           29        597            1   Yes             Y   \n",
       "3062  5085            8        424            1   Yes             X   \n",
       "\n",
       "     start_date  end_date age_range marital_status  rented family_size  \\\n",
       "2815   08/10/12  30/11/12       70+        Married     0.0           2   \n",
       "3062   16/02/13  05/04/13       70+        Married     0.0           2   \n",
       "\n",
       "     no_of_children  income_bracket  total_purchase_price  \\\n",
       "2815            NaN             4.0              98513.93   \n",
       "3062            NaN             4.0              98513.93   \n",
       "\n",
       "      max_sell_price_item  max_sell_price  len_item_list  \n",
       "2815                73348          445.25             63  \n",
       "3062                73348          445.25              3  "
      ]
     },
     "execution_count": 445,
     "metadata": {},
     "output_type": "execute_result"
    }
   ],
   "source": [
    "merged_data[merged_data['customer_id'] == 1].head(2)"
   ]
  },
  {
   "cell_type": "code",
   "execution_count": 446,
   "metadata": {},
   "outputs": [],
   "source": [
    "merged_data.drop(['age_range','marital_status','rented','family_size','no_of_children','income_bracket'],axis =1,inplace = True)"
   ]
  },
  {
   "cell_type": "code",
   "execution_count": 447,
   "metadata": {},
   "outputs": [],
   "source": [
    "merged_data = pd.merge(merged_data,max_actual_max_sell,how = \"left\", on = \"customer_id\",sort = True)"
   ]
  },
  {
   "cell_type": "code",
   "execution_count": 458,
   "metadata": {},
   "outputs": [],
   "source": [
    "merged_data['start_date'] = pd.to_datetime(merged_data['start_date'],format = \"%d/%m/%y\")\n",
    "\n",
    "merged_data['end_date'] = pd.to_datetime(merged_data['end_date'],format = \"%d/%m/%y\")"
   ]
  },
  {
   "cell_type": "code",
   "execution_count": 485,
   "metadata": {},
   "outputs": [],
   "source": [
    "merged_data['campaign_days'] = merged_data['end_date'] - merged_data['start_date']"
   ]
  },
  {
   "cell_type": "code",
   "execution_count": 467,
   "metadata": {
    "collapsed": true
   },
   "outputs": [
    {
     "data": {
      "text/html": [
       "<div>\n",
       "<style scoped>\n",
       "    .dataframe tbody tr th:only-of-type {\n",
       "        vertical-align: middle;\n",
       "    }\n",
       "\n",
       "    .dataframe tbody tr th {\n",
       "        vertical-align: top;\n",
       "    }\n",
       "\n",
       "    .dataframe thead th {\n",
       "        text-align: right;\n",
       "    }\n",
       "</style>\n",
       "<table border=\"1\" class=\"dataframe\">\n",
       "  <thead>\n",
       "    <tr style=\"text-align: right;\">\n",
       "      <th></th>\n",
       "      <th>id</th>\n",
       "      <th>campaign_id</th>\n",
       "      <th>coupon_id</th>\n",
       "      <th>customer_id</th>\n",
       "      <th>train</th>\n",
       "      <th>campaign_type</th>\n",
       "      <th>start_date</th>\n",
       "      <th>end_date</th>\n",
       "      <th>total_purchase_price</th>\n",
       "      <th>max_sell_price_item_x</th>\n",
       "      <th>...</th>\n",
       "      <th>min_ratio_actual_selling_price</th>\n",
       "      <th>diff_max_actual_max_sell_price</th>\n",
       "      <th>ratio_max_actual_max_sell_price</th>\n",
       "      <th>purchase_count</th>\n",
       "      <th>coupon_usage_count</th>\n",
       "      <th>ratio_purchase_count_discount_count</th>\n",
       "      <th>coupon_usage_amt</th>\n",
       "      <th>max_coupon_usage_amt</th>\n",
       "      <th>coupon_discount</th>\n",
       "      <th>campaign_days</th>\n",
       "    </tr>\n",
       "  </thead>\n",
       "  <tbody>\n",
       "    <tr>\n",
       "      <th>0</th>\n",
       "      <td>4674</td>\n",
       "      <td>29</td>\n",
       "      <td>597</td>\n",
       "      <td>1</td>\n",
       "      <td>Yes</td>\n",
       "      <td>Y</td>\n",
       "      <td>2012-10-08</td>\n",
       "      <td>2012-11-30</td>\n",
       "      <td>98513.93</td>\n",
       "      <td>73348</td>\n",
       "      <td>...</td>\n",
       "      <td>0.358163</td>\n",
       "      <td>461.28</td>\n",
       "      <td>0.491159</td>\n",
       "      <td>1048</td>\n",
       "      <td>78.0</td>\n",
       "      <td>0.074427</td>\n",
       "      <td>-2116.83</td>\n",
       "      <td>-106.86</td>\n",
       "      <td>-35.62</td>\n",
       "      <td>53 days</td>\n",
       "    </tr>\n",
       "    <tr>\n",
       "      <th>1</th>\n",
       "      <td>5085</td>\n",
       "      <td>8</td>\n",
       "      <td>424</td>\n",
       "      <td>1</td>\n",
       "      <td>Yes</td>\n",
       "      <td>X</td>\n",
       "      <td>2013-02-16</td>\n",
       "      <td>2013-04-05</td>\n",
       "      <td>98513.93</td>\n",
       "      <td>73348</td>\n",
       "      <td>...</td>\n",
       "      <td>0.358163</td>\n",
       "      <td>461.28</td>\n",
       "      <td>0.491159</td>\n",
       "      <td>1048</td>\n",
       "      <td>78.0</td>\n",
       "      <td>0.074427</td>\n",
       "      <td>-2116.83</td>\n",
       "      <td>-106.86</td>\n",
       "      <td>-35.62</td>\n",
       "      <td>48 days</td>\n",
       "    </tr>\n",
       "    <tr>\n",
       "      <th>2</th>\n",
       "      <td>5380</td>\n",
       "      <td>8</td>\n",
       "      <td>103</td>\n",
       "      <td>1</td>\n",
       "      <td>Yes</td>\n",
       "      <td>X</td>\n",
       "      <td>2013-02-16</td>\n",
       "      <td>2013-04-05</td>\n",
       "      <td>98513.93</td>\n",
       "      <td>73348</td>\n",
       "      <td>...</td>\n",
       "      <td>0.358163</td>\n",
       "      <td>461.28</td>\n",
       "      <td>0.491159</td>\n",
       "      <td>1048</td>\n",
       "      <td>78.0</td>\n",
       "      <td>0.074427</td>\n",
       "      <td>-2116.83</td>\n",
       "      <td>-106.86</td>\n",
       "      <td>-35.62</td>\n",
       "      <td>48 days</td>\n",
       "    </tr>\n",
       "    <tr>\n",
       "      <th>3</th>\n",
       "      <td>6741</td>\n",
       "      <td>29</td>\n",
       "      <td>896</td>\n",
       "      <td>1</td>\n",
       "      <td>Yes</td>\n",
       "      <td>Y</td>\n",
       "      <td>2012-10-08</td>\n",
       "      <td>2012-11-30</td>\n",
       "      <td>98513.93</td>\n",
       "      <td>73348</td>\n",
       "      <td>...</td>\n",
       "      <td>0.358163</td>\n",
       "      <td>461.28</td>\n",
       "      <td>0.491159</td>\n",
       "      <td>1048</td>\n",
       "      <td>78.0</td>\n",
       "      <td>0.074427</td>\n",
       "      <td>-2116.83</td>\n",
       "      <td>-106.86</td>\n",
       "      <td>-35.62</td>\n",
       "      <td>53 days</td>\n",
       "    </tr>\n",
       "    <tr>\n",
       "      <th>4</th>\n",
       "      <td>9849</td>\n",
       "      <td>12</td>\n",
       "      <td>705</td>\n",
       "      <td>1</td>\n",
       "      <td>Yes</td>\n",
       "      <td>Y</td>\n",
       "      <td>2013-04-22</td>\n",
       "      <td>2013-05-24</td>\n",
       "      <td>98513.93</td>\n",
       "      <td>73348</td>\n",
       "      <td>...</td>\n",
       "      <td>0.358163</td>\n",
       "      <td>461.28</td>\n",
       "      <td>0.491159</td>\n",
       "      <td>1048</td>\n",
       "      <td>78.0</td>\n",
       "      <td>0.074427</td>\n",
       "      <td>-2116.83</td>\n",
       "      <td>-106.86</td>\n",
       "      <td>-35.62</td>\n",
       "      <td>32 days</td>\n",
       "    </tr>\n",
       "  </tbody>\n",
       "</table>\n",
       "<p>5 rows × 26 columns</p>\n",
       "</div>"
      ],
      "text/plain": [
       "     id  campaign_id  coupon_id  customer_id train campaign_type start_date  \\\n",
       "0  4674           29        597            1   Yes             Y 2012-10-08   \n",
       "1  5085            8        424            1   Yes             X 2013-02-16   \n",
       "2  5380            8        103            1   Yes             X 2013-02-16   \n",
       "3  6741           29        896            1   Yes             Y 2012-10-08   \n",
       "4  9849           12        705            1   Yes             Y 2013-04-22   \n",
       "\n",
       "    end_date  total_purchase_price  max_sell_price_item_x  ...  \\\n",
       "0 2012-11-30              98513.93                  73348  ...   \n",
       "1 2013-04-05              98513.93                  73348  ...   \n",
       "2 2013-04-05              98513.93                  73348  ...   \n",
       "3 2012-11-30              98513.93                  73348  ...   \n",
       "4 2013-05-24              98513.93                  73348  ...   \n",
       "\n",
       "   min_ratio_actual_selling_price  diff_max_actual_max_sell_price  \\\n",
       "0                        0.358163                          461.28   \n",
       "1                        0.358163                          461.28   \n",
       "2                        0.358163                          461.28   \n",
       "3                        0.358163                          461.28   \n",
       "4                        0.358163                          461.28   \n",
       "\n",
       "   ratio_max_actual_max_sell_price  purchase_count  coupon_usage_count  \\\n",
       "0                         0.491159            1048                78.0   \n",
       "1                         0.491159            1048                78.0   \n",
       "2                         0.491159            1048                78.0   \n",
       "3                         0.491159            1048                78.0   \n",
       "4                         0.491159            1048                78.0   \n",
       "\n",
       "   ratio_purchase_count_discount_count  coupon_usage_amt  \\\n",
       "0                             0.074427          -2116.83   \n",
       "1                             0.074427          -2116.83   \n",
       "2                             0.074427          -2116.83   \n",
       "3                             0.074427          -2116.83   \n",
       "4                             0.074427          -2116.83   \n",
       "\n",
       "   max_coupon_usage_amt  coupon_discount  campaign_days  \n",
       "0               -106.86           -35.62        53 days  \n",
       "1               -106.86           -35.62        48 days  \n",
       "2               -106.86           -35.62        48 days  \n",
       "3               -106.86           -35.62        53 days  \n",
       "4               -106.86           -35.62        32 days  \n",
       "\n",
       "[5 rows x 26 columns]"
      ]
     },
     "execution_count": 467,
     "metadata": {},
     "output_type": "execute_result"
    }
   ],
   "source": [
    "merged_data.head()"
   ]
  },
  {
   "cell_type": "code",
   "execution_count": 490,
   "metadata": {
    "collapsed": true
   },
   "outputs": [
    {
     "data": {
      "text/plain": [
       "['__bytes__',\n",
       " '__class__',\n",
       " '__delattr__',\n",
       " '__dict__',\n",
       " '__dir__',\n",
       " '__doc__',\n",
       " '__eq__',\n",
       " '__format__',\n",
       " '__ge__',\n",
       " '__getattribute__',\n",
       " '__gt__',\n",
       " '__hash__',\n",
       " '__init__',\n",
       " '__init_subclass__',\n",
       " '__le__',\n",
       " '__lt__',\n",
       " '__module__',\n",
       " '__ne__',\n",
       " '__new__',\n",
       " '__reduce__',\n",
       " '__reduce_ex__',\n",
       " '__repr__',\n",
       " '__setattr__',\n",
       " '__sizeof__',\n",
       " '__str__',\n",
       " '__subclasshook__',\n",
       " '__unicode__',\n",
       " '__weakref__',\n",
       " '_accessors',\n",
       " '_add_delegate_accessors',\n",
       " '_constructor',\n",
       " '_delegate_method',\n",
       " '_delegate_property_get',\n",
       " '_delegate_property_set',\n",
       " '_deprecations',\n",
       " '_dir_additions',\n",
       " '_dir_deletions',\n",
       " '_freeze',\n",
       " '_get_values',\n",
       " '_reset_cache',\n",
       " 'ceil',\n",
       " 'date',\n",
       " 'day',\n",
       " 'day_name',\n",
       " 'dayofweek',\n",
       " 'dayofyear',\n",
       " 'days_in_month',\n",
       " 'daysinmonth',\n",
       " 'floor',\n",
       " 'freq',\n",
       " 'hour',\n",
       " 'is_leap_year',\n",
       " 'is_month_end',\n",
       " 'is_month_start',\n",
       " 'is_quarter_end',\n",
       " 'is_quarter_start',\n",
       " 'is_year_end',\n",
       " 'is_year_start',\n",
       " 'microsecond',\n",
       " 'minute',\n",
       " 'month',\n",
       " 'month_name',\n",
       " 'nanosecond',\n",
       " 'normalize',\n",
       " 'quarter',\n",
       " 'round',\n",
       " 'second',\n",
       " 'strftime',\n",
       " 'time',\n",
       " 'timetz',\n",
       " 'to_period',\n",
       " 'to_pydatetime',\n",
       " 'tz',\n",
       " 'tz_convert',\n",
       " 'tz_localize',\n",
       " 'week',\n",
       " 'weekday',\n",
       " 'weekday_name',\n",
       " 'weekofyear',\n",
       " 'year']"
      ]
     },
     "execution_count": 490,
     "metadata": {},
     "output_type": "execute_result"
    }
   ],
   "source": [
    "dir(merged_data['start_date'].dt)"
   ]
  },
  {
   "cell_type": "code",
   "execution_count": 499,
   "metadata": {
    "collapsed": true
   },
   "outputs": [
    {
     "data": {
      "text/plain": [
       "0         4\n",
       "1         1\n",
       "2         1\n",
       "3         4\n",
       "4         2\n",
       "5         1\n",
       "6         4\n",
       "7         1\n",
       "8         2\n",
       "9         2\n",
       "10        4\n",
       "11        1\n",
       "12        2\n",
       "13        4\n",
       "14        2\n",
       "15        4\n",
       "16        4\n",
       "17        2\n",
       "18        4\n",
       "19        2\n",
       "20        1\n",
       "21        2\n",
       "22        4\n",
       "23        4\n",
       "24        4\n",
       "25        1\n",
       "26        1\n",
       "27        1\n",
       "28        2\n",
       "29        4\n",
       "         ..\n",
       "128565    3\n",
       "128566    3\n",
       "128567    3\n",
       "128568    3\n",
       "128569    3\n",
       "128570    3\n",
       "128571    3\n",
       "128572    3\n",
       "128573    3\n",
       "128574    3\n",
       "128575    3\n",
       "128576    3\n",
       "128577    3\n",
       "128578    3\n",
       "128579    3\n",
       "128580    3\n",
       "128581    3\n",
       "128582    3\n",
       "128583    3\n",
       "128584    3\n",
       "128585    3\n",
       "128586    3\n",
       "128587    3\n",
       "128588    3\n",
       "128589    3\n",
       "128590    3\n",
       "128591    3\n",
       "128592    3\n",
       "128593    3\n",
       "128594    3\n",
       "Name: start_date, Length: 128595, dtype: int64"
      ]
     },
     "execution_count": 499,
     "metadata": {},
     "output_type": "execute_result"
    }
   ],
   "source": [
    "merged_data['start_date'].dt.quarter"
   ]
  },
  {
   "cell_type": "code",
   "execution_count": 501,
   "metadata": {},
   "outputs": [],
   "source": [
    "merged_data['start_date_month_end'] = merged_data['start_date'].dt.is_month_end\n",
    "merged_data['end_date_month_end'] = merged_data['end_date'].dt.is_month_end\n",
    "merged_data['start_date_year_end'] = merged_data['start_date'].dt.is_year_end\n",
    "merged_data['start_date_quarter'] = merged_data['start_date'].dt.quarter"
   ]
  },
  {
   "cell_type": "code",
   "execution_count": 506,
   "metadata": {},
   "outputs": [],
   "source": [
    "drop_columns = ['campaign_id','coupon_id','start_date','end_date']\n",
    "merged_data.drop(drop_columns, axis = 1,inplace = True)"
   ]
  },
  {
   "cell_type": "code",
   "execution_count": 508,
   "metadata": {},
   "outputs": [
    {
     "data": {
      "text/html": [
       "<div>\n",
       "<style scoped>\n",
       "    .dataframe tbody tr th:only-of-type {\n",
       "        vertical-align: middle;\n",
       "    }\n",
       "\n",
       "    .dataframe tbody tr th {\n",
       "        vertical-align: top;\n",
       "    }\n",
       "\n",
       "    .dataframe thead th {\n",
       "        text-align: right;\n",
       "    }\n",
       "</style>\n",
       "<table border=\"1\" class=\"dataframe\">\n",
       "  <thead>\n",
       "    <tr style=\"text-align: right;\">\n",
       "      <th></th>\n",
       "      <th>id</th>\n",
       "      <th>customer_id</th>\n",
       "      <th>train</th>\n",
       "      <th>campaign_type</th>\n",
       "      <th>total_purchase_price</th>\n",
       "      <th>max_sell_price_item_x</th>\n",
       "      <th>max_sell_price_x</th>\n",
       "      <th>len_item_list</th>\n",
       "      <th>max_actual_price</th>\n",
       "      <th>max_sell_price_item_y</th>\n",
       "      <th>...</th>\n",
       "      <th>coupon_usage_count</th>\n",
       "      <th>ratio_purchase_count_discount_count</th>\n",
       "      <th>coupon_usage_amt</th>\n",
       "      <th>max_coupon_usage_amt</th>\n",
       "      <th>coupon_discount</th>\n",
       "      <th>campaign_days</th>\n",
       "      <th>start_date_month_end</th>\n",
       "      <th>end_date_month_end</th>\n",
       "      <th>start_date_year_end</th>\n",
       "      <th>start_date_quarter</th>\n",
       "    </tr>\n",
       "  </thead>\n",
       "  <tbody>\n",
       "    <tr>\n",
       "      <th>0</th>\n",
       "      <td>4674</td>\n",
       "      <td>1</td>\n",
       "      <td>Yes</td>\n",
       "      <td>Y</td>\n",
       "      <td>98513.93</td>\n",
       "      <td>73348</td>\n",
       "      <td>445.25</td>\n",
       "      <td>63</td>\n",
       "      <td>906.53</td>\n",
       "      <td>73348</td>\n",
       "      <td>...</td>\n",
       "      <td>78.0</td>\n",
       "      <td>0.074427</td>\n",
       "      <td>-2116.83</td>\n",
       "      <td>-106.86</td>\n",
       "      <td>-35.62</td>\n",
       "      <td>53 days</td>\n",
       "      <td>False</td>\n",
       "      <td>True</td>\n",
       "      <td>False</td>\n",
       "      <td>4</td>\n",
       "    </tr>\n",
       "    <tr>\n",
       "      <th>1</th>\n",
       "      <td>5085</td>\n",
       "      <td>1</td>\n",
       "      <td>Yes</td>\n",
       "      <td>X</td>\n",
       "      <td>98513.93</td>\n",
       "      <td>73348</td>\n",
       "      <td>445.25</td>\n",
       "      <td>3</td>\n",
       "      <td>906.53</td>\n",
       "      <td>73348</td>\n",
       "      <td>...</td>\n",
       "      <td>78.0</td>\n",
       "      <td>0.074427</td>\n",
       "      <td>-2116.83</td>\n",
       "      <td>-106.86</td>\n",
       "      <td>-35.62</td>\n",
       "      <td>48 days</td>\n",
       "      <td>False</td>\n",
       "      <td>False</td>\n",
       "      <td>False</td>\n",
       "      <td>1</td>\n",
       "    </tr>\n",
       "  </tbody>\n",
       "</table>\n",
       "<p>2 rows × 26 columns</p>\n",
       "</div>"
      ],
      "text/plain": [
       "     id  customer_id train campaign_type  total_purchase_price  \\\n",
       "0  4674            1   Yes             Y              98513.93   \n",
       "1  5085            1   Yes             X              98513.93   \n",
       "\n",
       "   max_sell_price_item_x  max_sell_price_x  len_item_list  max_actual_price  \\\n",
       "0                  73348            445.25             63            906.53   \n",
       "1                  73348            445.25              3            906.53   \n",
       "\n",
       "   max_sell_price_item_y  ...  coupon_usage_count  \\\n",
       "0                  73348  ...                78.0   \n",
       "1                  73348  ...                78.0   \n",
       "\n",
       "   ratio_purchase_count_discount_count  coupon_usage_amt  \\\n",
       "0                             0.074427          -2116.83   \n",
       "1                             0.074427          -2116.83   \n",
       "\n",
       "   max_coupon_usage_amt  coupon_discount  campaign_days  start_date_month_end  \\\n",
       "0               -106.86           -35.62        53 days                 False   \n",
       "1               -106.86           -35.62        48 days                 False   \n",
       "\n",
       "   end_date_month_end  start_date_year_end  start_date_quarter  \n",
       "0                True                False                   4  \n",
       "1               False                False                   1  \n",
       "\n",
       "[2 rows x 26 columns]"
      ]
     },
     "execution_count": 508,
     "metadata": {},
     "output_type": "execute_result"
    }
   ],
   "source": [
    "merged_data.head(2)"
   ]
  },
  {
   "cell_type": "code",
   "execution_count": 519,
   "metadata": {
    "scrolled": true
   },
   "outputs": [
    {
     "data": {
      "text/plain": [
       "0.0201865533565568"
      ]
     },
     "execution_count": 519,
     "metadata": {},
     "output_type": "execute_result"
    }
   ],
   "source": [
    "merged_data['customer_id'].nunique()/train_data.shape[0]"
   ]
  },
  {
   "cell_type": "code",
   "execution_count": 525,
   "metadata": {},
   "outputs": [],
   "source": [
    "train_data = merged_data.loc[merged_data['train'] == 'Yes']\n",
    "test_data = merged_data.loc[merged_data['train'] == 'No']"
   ]
  },
  {
   "cell_type": "code",
   "execution_count": 523,
   "metadata": {},
   "outputs": [],
   "source": [
    "data = pd.read_csv(\"C:/Users/kxj133/Desktop/AV2/train.csv\")"
   ]
  },
  {
   "cell_type": "code",
   "execution_count": 524,
   "metadata": {
    "collapsed": true
   },
   "outputs": [
    {
     "data": {
      "text/plain": [
       "Index(['id', 'campaign_id', 'coupon_id', 'customer_id', 'redemption_status'], dtype='object')"
      ]
     },
     "execution_count": 524,
     "metadata": {},
     "output_type": "execute_result"
    }
   ],
   "source": [
    "data.columns"
   ]
  },
  {
   "cell_type": "code",
   "execution_count": 543,
   "metadata": {},
   "outputs": [],
   "source": [
    "final_data = pd.merge(train_data,data[['id','redemption_status']], how = 'left',on = 'id')"
   ]
  },
  {
   "cell_type": "code",
   "execution_count": 544,
   "metadata": {
    "collapsed": true
   },
   "outputs": [
    {
     "data": {
      "text/html": [
       "<div>\n",
       "<style scoped>\n",
       "    .dataframe tbody tr th:only-of-type {\n",
       "        vertical-align: middle;\n",
       "    }\n",
       "\n",
       "    .dataframe tbody tr th {\n",
       "        vertical-align: top;\n",
       "    }\n",
       "\n",
       "    .dataframe thead th {\n",
       "        text-align: right;\n",
       "    }\n",
       "</style>\n",
       "<table border=\"1\" class=\"dataframe\">\n",
       "  <thead>\n",
       "    <tr style=\"text-align: right;\">\n",
       "      <th></th>\n",
       "      <th>id</th>\n",
       "      <th>customer_id</th>\n",
       "      <th>train</th>\n",
       "      <th>campaign_type</th>\n",
       "      <th>total_purchase_price</th>\n",
       "      <th>max_sell_price_item_x</th>\n",
       "      <th>max_sell_price_x</th>\n",
       "      <th>len_item_list</th>\n",
       "      <th>max_actual_price</th>\n",
       "      <th>max_sell_price_item_y</th>\n",
       "      <th>...</th>\n",
       "      <th>ratio_purchase_count_discount_count</th>\n",
       "      <th>coupon_usage_amt</th>\n",
       "      <th>max_coupon_usage_amt</th>\n",
       "      <th>coupon_discount</th>\n",
       "      <th>campaign_days</th>\n",
       "      <th>start_date_month_end</th>\n",
       "      <th>end_date_month_end</th>\n",
       "      <th>start_date_year_end</th>\n",
       "      <th>start_date_quarter</th>\n",
       "      <th>redemption_status</th>\n",
       "    </tr>\n",
       "  </thead>\n",
       "  <tbody>\n",
       "    <tr>\n",
       "      <th>0</th>\n",
       "      <td>4674</td>\n",
       "      <td>1</td>\n",
       "      <td>Yes</td>\n",
       "      <td>Y</td>\n",
       "      <td>98513.93</td>\n",
       "      <td>73348</td>\n",
       "      <td>445.25</td>\n",
       "      <td>63</td>\n",
       "      <td>906.53</td>\n",
       "      <td>73348</td>\n",
       "      <td>...</td>\n",
       "      <td>0.074427</td>\n",
       "      <td>-2116.83</td>\n",
       "      <td>-106.86</td>\n",
       "      <td>-35.62</td>\n",
       "      <td>53 days</td>\n",
       "      <td>False</td>\n",
       "      <td>True</td>\n",
       "      <td>False</td>\n",
       "      <td>4</td>\n",
       "      <td>0</td>\n",
       "    </tr>\n",
       "    <tr>\n",
       "      <th>1</th>\n",
       "      <td>5085</td>\n",
       "      <td>1</td>\n",
       "      <td>Yes</td>\n",
       "      <td>X</td>\n",
       "      <td>98513.93</td>\n",
       "      <td>73348</td>\n",
       "      <td>445.25</td>\n",
       "      <td>3</td>\n",
       "      <td>906.53</td>\n",
       "      <td>73348</td>\n",
       "      <td>...</td>\n",
       "      <td>0.074427</td>\n",
       "      <td>-2116.83</td>\n",
       "      <td>-106.86</td>\n",
       "      <td>-35.62</td>\n",
       "      <td>48 days</td>\n",
       "      <td>False</td>\n",
       "      <td>False</td>\n",
       "      <td>False</td>\n",
       "      <td>1</td>\n",
       "      <td>0</td>\n",
       "    </tr>\n",
       "  </tbody>\n",
       "</table>\n",
       "<p>2 rows × 27 columns</p>\n",
       "</div>"
      ],
      "text/plain": [
       "     id  customer_id train campaign_type  total_purchase_price  \\\n",
       "0  4674            1   Yes             Y              98513.93   \n",
       "1  5085            1   Yes             X              98513.93   \n",
       "\n",
       "   max_sell_price_item_x  max_sell_price_x  len_item_list  max_actual_price  \\\n",
       "0                  73348            445.25             63            906.53   \n",
       "1                  73348            445.25              3            906.53   \n",
       "\n",
       "   max_sell_price_item_y  ...  ratio_purchase_count_discount_count  \\\n",
       "0                  73348  ...                             0.074427   \n",
       "1                  73348  ...                             0.074427   \n",
       "\n",
       "   coupon_usage_amt  max_coupon_usage_amt  coupon_discount  campaign_days  \\\n",
       "0          -2116.83               -106.86           -35.62        53 days   \n",
       "1          -2116.83               -106.86           -35.62        48 days   \n",
       "\n",
       "   start_date_month_end  end_date_month_end  start_date_year_end  \\\n",
       "0                 False                True                False   \n",
       "1                 False               False                False   \n",
       "\n",
       "   start_date_quarter  redemption_status  \n",
       "0                   4                  0  \n",
       "1                   1                  0  \n",
       "\n",
       "[2 rows x 27 columns]"
      ]
     },
     "execution_count": 544,
     "metadata": {},
     "output_type": "execute_result"
    }
   ],
   "source": [
    "final_data.head(2)"
   ]
  },
  {
   "cell_type": "code",
   "execution_count": 545,
   "metadata": {},
   "outputs": [],
   "source": [
    "final_data.drop(['train','customer_id','id','campaign_days'],axis =1,inplace = True)"
   ]
  },
  {
   "cell_type": "code",
   "execution_count": 546,
   "metadata": {},
   "outputs": [],
   "source": [
    "le = LabelEncoder()\n",
    "final_data['campaign_type'] = le.fit_transform(final_data['campaign_type'])"
   ]
  },
  {
   "cell_type": "code",
   "execution_count": 547,
   "metadata": {},
   "outputs": [],
   "source": [
    "X = final_data.drop('redemption_status',axis =1)\n",
    "Y = final_data['redemption_status']\n",
    "### test train split\n",
    "train_x,test_x,train_y,test_y = train_test_split(X,Y,random_state = 1000,test_size = 0.30)"
   ]
  },
  {
   "cell_type": "code",
   "execution_count": 553,
   "metadata": {
    "collapsed": true
   },
   "outputs": [
    {
     "data": {
      "text/plain": [
       "LGBMClassifier(boosting_type='gbdt', class_weight=None, colsample_bytree=0.3,\n",
       "               importance_type='split', learning_rate=0.03, max_depth=-1,\n",
       "               min_child_samples=10, min_child_weight=0.001, min_split_gain=0.0,\n",
       "               n_estimators=400, n_jobs=-1, nthread=8, num_leaves=45,\n",
       "               objective=None, random_state=None, reg_alpha=0.0, reg_lambda=0.0,\n",
       "               silent=True, subsample=1.0, subsample_for_bin=200000,\n",
       "               subsample_freq=1)"
      ]
     },
     "execution_count": 553,
     "metadata": {},
     "output_type": "execute_result"
    }
   ],
   "source": [
    "lgb = LGBMClassifier(nthread=8,\n",
    "                     n_estimators=400,\n",
    "                     num_leaves=45,\n",
    "                     learning_rate=0.03,\n",
    "                     subsample=1.0,\n",
    "                     subsample_freq=1,\n",
    "                     colsample_bytree=0.3,\n",
    "                     min_child_samples=10)\n",
    "\n",
    "lgb.fit(train_x, train_y)"
   ]
  },
  {
   "cell_type": "code",
   "execution_count": 562,
   "metadata": {
    "collapsed": true
   },
   "outputs": [
    {
     "name": "stderr",
     "output_type": "stream",
     "text": [
      "C:\\ProgramData\\Anaconda3\\lib\\site-packages\\pandas\\core\\frame.py:3940: SettingWithCopyWarning: \n",
      "A value is trying to be set on a copy of a slice from a DataFrame\n",
      "\n",
      "See the caveats in the documentation: http://pandas.pydata.org/pandas-docs/stable/indexing.html#indexing-view-versus-copy\n",
      "  errors=errors)\n"
     ]
    }
   ],
   "source": [
    "test_data.drop(['train','customer_id','id','campaign_days'],axis =1,inplace = True)"
   ]
  },
  {
   "cell_type": "code",
   "execution_count": 565,
   "metadata": {
    "collapsed": true
   },
   "outputs": [
    {
     "name": "stderr",
     "output_type": "stream",
     "text": [
      "C:\\ProgramData\\Anaconda3\\lib\\site-packages\\ipykernel_launcher.py:2: SettingWithCopyWarning: \n",
      "A value is trying to be set on a copy of a slice from a DataFrame.\n",
      "Try using .loc[row_indexer,col_indexer] = value instead\n",
      "\n",
      "See the caveats in the documentation: http://pandas.pydata.org/pandas-docs/stable/indexing.html#indexing-view-versus-copy\n",
      "  \n"
     ]
    }
   ],
   "source": [
    "le = LabelEncoder()\n",
    "test_data['campaign_type'] = le.fit_transform(test_data['campaign_type'])"
   ]
  },
  {
   "cell_type": "code",
   "execution_count": 566,
   "metadata": {
    "scrolled": false
   },
   "outputs": [],
   "source": [
    "predict = lgb.predict(test_data)"
   ]
  },
  {
   "cell_type": "code",
   "execution_count": 567,
   "metadata": {},
   "outputs": [],
   "source": [
    "submission = pd.read_csv(\"C:/Users/kxj133/Desktop/AV2/sample_submission.csv\")"
   ]
  },
  {
   "cell_type": "code",
   "execution_count": 568,
   "metadata": {},
   "outputs": [
    {
     "data": {
      "text/html": [
       "<div>\n",
       "<style scoped>\n",
       "    .dataframe tbody tr th:only-of-type {\n",
       "        vertical-align: middle;\n",
       "    }\n",
       "\n",
       "    .dataframe tbody tr th {\n",
       "        vertical-align: top;\n",
       "    }\n",
       "\n",
       "    .dataframe thead th {\n",
       "        text-align: right;\n",
       "    }\n",
       "</style>\n",
       "<table border=\"1\" class=\"dataframe\">\n",
       "  <thead>\n",
       "    <tr style=\"text-align: right;\">\n",
       "      <th></th>\n",
       "      <th>id</th>\n",
       "      <th>redemption_status</th>\n",
       "    </tr>\n",
       "  </thead>\n",
       "  <tbody>\n",
       "    <tr>\n",
       "      <th>0</th>\n",
       "      <td>3</td>\n",
       "      <td>0</td>\n",
       "    </tr>\n",
       "    <tr>\n",
       "      <th>1</th>\n",
       "      <td>4</td>\n",
       "      <td>0</td>\n",
       "    </tr>\n",
       "    <tr>\n",
       "      <th>2</th>\n",
       "      <td>5</td>\n",
       "      <td>0</td>\n",
       "    </tr>\n",
       "    <tr>\n",
       "      <th>3</th>\n",
       "      <td>8</td>\n",
       "      <td>0</td>\n",
       "    </tr>\n",
       "    <tr>\n",
       "      <th>4</th>\n",
       "      <td>10</td>\n",
       "      <td>0</td>\n",
       "    </tr>\n",
       "  </tbody>\n",
       "</table>\n",
       "</div>"
      ],
      "text/plain": [
       "   id  redemption_status\n",
       "0   3                  0\n",
       "1   4                  0\n",
       "2   5                  0\n",
       "3   8                  0\n",
       "4  10                  0"
      ]
     },
     "execution_count": 568,
     "metadata": {},
     "output_type": "execute_result"
    }
   ],
   "source": [
    "submission.head()"
   ]
  },
  {
   "cell_type": "code",
   "execution_count": 559,
   "metadata": {},
   "outputs": [],
   "source": [
    "from sklearn.metrics import accuracy_score,roc_auc_score"
   ]
  },
  {
   "cell_type": "code",
   "execution_count": 560,
   "metadata": {},
   "outputs": [
    {
     "data": {
      "text/plain": [
       "0.5402829081819164"
      ]
     },
     "execution_count": 560,
     "metadata": {},
     "output_type": "execute_result"
    }
   ],
   "source": [
    "roc_auc_score(test_y,predict)"
   ]
  }
 ],
 "metadata": {
  "kernelspec": {
   "display_name": "Python 3",
   "language": "python",
   "name": "python3"
  },
  "language_info": {
   "codemirror_mode": {
    "name": "ipython",
    "version": 3
   },
   "file_extension": ".py",
   "mimetype": "text/x-python",
   "name": "python",
   "nbconvert_exporter": "python",
   "pygments_lexer": "ipython3",
   "version": "3.7.3"
  }
 },
 "nbformat": 4,
 "nbformat_minor": 2
}
